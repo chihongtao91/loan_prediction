{
  "nbformat": 4,
  "nbformat_minor": 0,
  "metadata": {
    "kernelspec": {
      "display_name": "Python 3",
      "language": "python",
      "name": "python3"
    },
    "language_info": {
      "codemirror_mode": {
        "name": "ipython",
        "version": 3
      },
      "file_extension": ".py",
      "mimetype": "text/x-python",
      "name": "python",
      "nbconvert_exporter": "python",
      "pygments_lexer": "ipython3",
      "version": "3.8.1"
    },
    "colab": {
      "name": "data_exploration.ipynb",
      "provenance": [],
      "collapsed_sections": [
        "hu4kfPdTfTjj",
        "SREN11PMfTlf",
        "Q0XCRlcCfTln",
        "4VYA9NgcfTlr",
        "Kdnt565RfTlw",
        "jmtRckPIfTl2",
        "Kc_6TAX4fTl7",
        "aQIi6NJ9fTmD",
        "ZK-mKn7ifTmH",
        "aAPaulrMfTmN",
        "PS0K7SiFfTmT",
        "spNVVZMQfTmb"
      ],
      "toc_visible": true,
      "machine_shape": "hm",
      "include_colab_link": true
    }
  },
  "cells": [
    {
      "cell_type": "markdown",
      "metadata": {
        "id": "view-in-github",
        "colab_type": "text"
      },
      "source": [
        "<a href=\"https://colab.research.google.com/github/chihongtao91/loan_prediction/blob/master/data_exploration1.ipynb\" target=\"_parent\"><img src=\"https://colab.research.google.com/assets/colab-badge.svg\" alt=\"Open In Colab\"/></a>"
      ]
    },
    {
      "cell_type": "markdown",
      "metadata": {
        "id": "dUSPLIgLfThb",
        "colab_type": "text"
      },
      "source": [
        "# 1. Data Exploration\n",
        "First, we explore the dataset and perform some descriptive analysis"
      ]
    },
    {
      "cell_type": "markdown",
      "metadata": {
        "id": "AGCjDkSqfThe",
        "colab_type": "text"
      },
      "source": [
        "## Import necessary packages"
      ]
    },
    {
      "cell_type": "code",
      "metadata": {
        "id": "c99EvWo1s9-x",
        "colab_type": "code",
        "outputId": "d52126a6-a125-49b8-c112-05dc7ae2897f",
        "colab": {
          "base_uri": "https://localhost:8080/",
          "height": 35
        }
      },
      "source": [
        "try:\n",
        "  import google.colab\n",
        "  IN_COLAB = True\n",
        "except:\n",
        "  IN_COLAB = False\n",
        "\n",
        "if IN_COLAB == True:\n",
        "  # Load the Drive helper and mount\n",
        "  from google.colab import drive\n",
        "\n",
        "  # This will prompt for authorization.\n",
        "  drive.mount('/content/drive')\n",
        "\n",
        "  # After executing the cell above, Drive\n",
        "  # files will be present in \"/content/drive/My Drive\".\n",
        "  # !ls \"/content/drive/My Drive\""
      ],
      "execution_count": 1,
      "outputs": [
        {
          "output_type": "stream",
          "text": [
            "Drive already mounted at /content/drive; to attempt to forcibly remount, call drive.mount(\"/content/drive\", force_remount=True).\n"
          ],
          "name": "stdout"
        }
      ]
    },
    {
      "cell_type": "code",
      "metadata": {
        "id": "ooPwp-7ofThi",
        "colab_type": "code",
        "colab": {
          "base_uri": "https://localhost:8080/",
          "height": 74
        },
        "outputId": "3d154fb6-a0c7-4137-aea6-90b06f469be8"
      },
      "source": [
        "import pandas as pd\n",
        "import numpy as np\n",
        "import seaborn as sns\n",
        "import matplotlib.pyplot as plt\n",
        "from matplotlib.cbook import boxplot_stats  \n",
        "\n",
        "# % matplotlib inline\n",
        "\n",
        "# feature engineering\n",
        "from sklearn.preprocessing import StandardScaler\n",
        "from sklearn.preprocessing import LabelEncoder as le\n",
        "\n",
        "# model training\n",
        "from sklearn.model_selection import train_test_split\n",
        "from sklearn.model_selection import GridSearchCV\n",
        "\n",
        "# model evaluation\n",
        "from sklearn.metrics import confusion_matrix\n",
        "from sklearn.metrics import f1_score\n",
        "from sklearn.metrics import accuracy_score\n",
        "\n",
        "# classifiers\n",
        "from sklearn.neighbors import KNeighborsClassifier # KNN\n",
        "from sklearn.linear_model import LogisticRegression # logistic regression\n",
        "from sklearn.tree import DecisionTreeClassifier # decision tree\n",
        "from sklearn.ensemble import RandomForestClassifier # random forest\n",
        "from sklearn.ensemble import GradientBoostingClassifier # gradient boosting\n",
        "\n",
        "\n",
        "import time, datetime"
      ],
      "execution_count": 2,
      "outputs": [
        {
          "output_type": "stream",
          "text": [
            "/usr/local/lib/python3.6/dist-packages/statsmodels/tools/_testing.py:19: FutureWarning: pandas.util.testing is deprecated. Use the functions in the public API at pandas.testing instead.\n",
            "  import pandas.util.testing as tm\n"
          ],
          "name": "stderr"
        }
      ]
    },
    {
      "cell_type": "markdown",
      "metadata": {
        "id": "ioaDbi8zfThz",
        "colab_type": "text"
      },
      "source": [
        "## Read CSV File"
      ]
    },
    {
      "cell_type": "code",
      "metadata": {
        "id": "VasWJRrtfTh3",
        "colab_type": "code",
        "outputId": "ad032323-94ed-4371-bdc7-a32ae577bc71",
        "colab": {
          "base_uri": "https://localhost:8080/",
          "height": 425
        }
      },
      "source": [
        "filepath='data/loan.csv'\n",
        "if IN_COLAB == True:\n",
        "  filepath='/content/drive/My Drive/lending-club-loan-data/loan.csv'\n",
        "\n",
        "print(f'start time: {datetime.datetime.now()}')\n",
        "start = time.process_time()  \n",
        "df = pd.read_csv(filepath)\n",
        "stop = time.process_time() \n",
        "print(f'end time: {datetime.datetime.now()}')\n",
        "print(f'elasped time reading csv: {str(datetime.timedelta(seconds=(stop - start)))}')\n",
        "df.head()"
      ],
      "execution_count": 3,
      "outputs": [
        {
          "output_type": "stream",
          "text": [
            "start time: 2020-05-03 06:54:03.471040\n"
          ],
          "name": "stdout"
        },
        {
          "output_type": "stream",
          "text": [
            "/usr/local/lib/python3.6/dist-packages/IPython/core/interactiveshell.py:2718: DtypeWarning: Columns (19,47,55,112,123,124,125,128,129,130,133,139,140,141) have mixed types.Specify dtype option on import or set low_memory=False.\n",
            "  interactivity=interactivity, compiler=compiler, result=result)\n"
          ],
          "name": "stderr"
        },
        {
          "output_type": "stream",
          "text": [
            "end time: 2020-05-03 06:54:54.357027\n",
            "elasped time reading csv: 0:00:49.289887\n"
          ],
          "name": "stdout"
        },
        {
          "output_type": "execute_result",
          "data": {
            "text/html": [
              "<div>\n",
              "<style scoped>\n",
              "    .dataframe tbody tr th:only-of-type {\n",
              "        vertical-align: middle;\n",
              "    }\n",
              "\n",
              "    .dataframe tbody tr th {\n",
              "        vertical-align: top;\n",
              "    }\n",
              "\n",
              "    .dataframe thead th {\n",
              "        text-align: right;\n",
              "    }\n",
              "</style>\n",
              "<table border=\"1\" class=\"dataframe\">\n",
              "  <thead>\n",
              "    <tr style=\"text-align: right;\">\n",
              "      <th></th>\n",
              "      <th>id</th>\n",
              "      <th>member_id</th>\n",
              "      <th>loan_amnt</th>\n",
              "      <th>funded_amnt</th>\n",
              "      <th>funded_amnt_inv</th>\n",
              "      <th>term</th>\n",
              "      <th>int_rate</th>\n",
              "      <th>installment</th>\n",
              "      <th>grade</th>\n",
              "      <th>sub_grade</th>\n",
              "      <th>emp_title</th>\n",
              "      <th>emp_length</th>\n",
              "      <th>home_ownership</th>\n",
              "      <th>annual_inc</th>\n",
              "      <th>verification_status</th>\n",
              "      <th>issue_d</th>\n",
              "      <th>loan_status</th>\n",
              "      <th>pymnt_plan</th>\n",
              "      <th>url</th>\n",
              "      <th>desc</th>\n",
              "      <th>purpose</th>\n",
              "      <th>title</th>\n",
              "      <th>zip_code</th>\n",
              "      <th>addr_state</th>\n",
              "      <th>dti</th>\n",
              "      <th>delinq_2yrs</th>\n",
              "      <th>earliest_cr_line</th>\n",
              "      <th>inq_last_6mths</th>\n",
              "      <th>mths_since_last_delinq</th>\n",
              "      <th>mths_since_last_record</th>\n",
              "      <th>open_acc</th>\n",
              "      <th>pub_rec</th>\n",
              "      <th>revol_bal</th>\n",
              "      <th>revol_util</th>\n",
              "      <th>total_acc</th>\n",
              "      <th>initial_list_status</th>\n",
              "      <th>out_prncp</th>\n",
              "      <th>out_prncp_inv</th>\n",
              "      <th>total_pymnt</th>\n",
              "      <th>total_pymnt_inv</th>\n",
              "      <th>...</th>\n",
              "      <th>pub_rec_bankruptcies</th>\n",
              "      <th>tax_liens</th>\n",
              "      <th>tot_hi_cred_lim</th>\n",
              "      <th>total_bal_ex_mort</th>\n",
              "      <th>total_bc_limit</th>\n",
              "      <th>total_il_high_credit_limit</th>\n",
              "      <th>revol_bal_joint</th>\n",
              "      <th>sec_app_earliest_cr_line</th>\n",
              "      <th>sec_app_inq_last_6mths</th>\n",
              "      <th>sec_app_mort_acc</th>\n",
              "      <th>sec_app_open_acc</th>\n",
              "      <th>sec_app_revol_util</th>\n",
              "      <th>sec_app_open_act_il</th>\n",
              "      <th>sec_app_num_rev_accts</th>\n",
              "      <th>sec_app_chargeoff_within_12_mths</th>\n",
              "      <th>sec_app_collections_12_mths_ex_med</th>\n",
              "      <th>sec_app_mths_since_last_major_derog</th>\n",
              "      <th>hardship_flag</th>\n",
              "      <th>hardship_type</th>\n",
              "      <th>hardship_reason</th>\n",
              "      <th>hardship_status</th>\n",
              "      <th>deferral_term</th>\n",
              "      <th>hardship_amount</th>\n",
              "      <th>hardship_start_date</th>\n",
              "      <th>hardship_end_date</th>\n",
              "      <th>payment_plan_start_date</th>\n",
              "      <th>hardship_length</th>\n",
              "      <th>hardship_dpd</th>\n",
              "      <th>hardship_loan_status</th>\n",
              "      <th>orig_projected_additional_accrued_interest</th>\n",
              "      <th>hardship_payoff_balance_amount</th>\n",
              "      <th>hardship_last_payment_amount</th>\n",
              "      <th>disbursement_method</th>\n",
              "      <th>debt_settlement_flag</th>\n",
              "      <th>debt_settlement_flag_date</th>\n",
              "      <th>settlement_status</th>\n",
              "      <th>settlement_date</th>\n",
              "      <th>settlement_amount</th>\n",
              "      <th>settlement_percentage</th>\n",
              "      <th>settlement_term</th>\n",
              "    </tr>\n",
              "  </thead>\n",
              "  <tbody>\n",
              "    <tr>\n",
              "      <th>0</th>\n",
              "      <td>NaN</td>\n",
              "      <td>NaN</td>\n",
              "      <td>2500</td>\n",
              "      <td>2500</td>\n",
              "      <td>2500.0</td>\n",
              "      <td>36 months</td>\n",
              "      <td>13.56</td>\n",
              "      <td>84.92</td>\n",
              "      <td>C</td>\n",
              "      <td>C1</td>\n",
              "      <td>Chef</td>\n",
              "      <td>10+ years</td>\n",
              "      <td>RENT</td>\n",
              "      <td>55000.0</td>\n",
              "      <td>Not Verified</td>\n",
              "      <td>Dec-2018</td>\n",
              "      <td>Current</td>\n",
              "      <td>n</td>\n",
              "      <td>NaN</td>\n",
              "      <td>NaN</td>\n",
              "      <td>debt_consolidation</td>\n",
              "      <td>Debt consolidation</td>\n",
              "      <td>109xx</td>\n",
              "      <td>NY</td>\n",
              "      <td>18.24</td>\n",
              "      <td>0.0</td>\n",
              "      <td>Apr-2001</td>\n",
              "      <td>1.0</td>\n",
              "      <td>NaN</td>\n",
              "      <td>45.0</td>\n",
              "      <td>9.0</td>\n",
              "      <td>1.0</td>\n",
              "      <td>4341</td>\n",
              "      <td>10.3</td>\n",
              "      <td>34.0</td>\n",
              "      <td>w</td>\n",
              "      <td>2386.02</td>\n",
              "      <td>2386.02</td>\n",
              "      <td>167.02</td>\n",
              "      <td>167.02</td>\n",
              "      <td>...</td>\n",
              "      <td>1.0</td>\n",
              "      <td>0.0</td>\n",
              "      <td>60124.0</td>\n",
              "      <td>16901.0</td>\n",
              "      <td>36500.0</td>\n",
              "      <td>18124.0</td>\n",
              "      <td>NaN</td>\n",
              "      <td>NaN</td>\n",
              "      <td>NaN</td>\n",
              "      <td>NaN</td>\n",
              "      <td>NaN</td>\n",
              "      <td>NaN</td>\n",
              "      <td>NaN</td>\n",
              "      <td>NaN</td>\n",
              "      <td>NaN</td>\n",
              "      <td>NaN</td>\n",
              "      <td>NaN</td>\n",
              "      <td>N</td>\n",
              "      <td>NaN</td>\n",
              "      <td>NaN</td>\n",
              "      <td>NaN</td>\n",
              "      <td>NaN</td>\n",
              "      <td>NaN</td>\n",
              "      <td>NaN</td>\n",
              "      <td>NaN</td>\n",
              "      <td>NaN</td>\n",
              "      <td>NaN</td>\n",
              "      <td>NaN</td>\n",
              "      <td>NaN</td>\n",
              "      <td>NaN</td>\n",
              "      <td>NaN</td>\n",
              "      <td>NaN</td>\n",
              "      <td>Cash</td>\n",
              "      <td>N</td>\n",
              "      <td>NaN</td>\n",
              "      <td>NaN</td>\n",
              "      <td>NaN</td>\n",
              "      <td>NaN</td>\n",
              "      <td>NaN</td>\n",
              "      <td>NaN</td>\n",
              "    </tr>\n",
              "    <tr>\n",
              "      <th>1</th>\n",
              "      <td>NaN</td>\n",
              "      <td>NaN</td>\n",
              "      <td>30000</td>\n",
              "      <td>30000</td>\n",
              "      <td>30000.0</td>\n",
              "      <td>60 months</td>\n",
              "      <td>18.94</td>\n",
              "      <td>777.23</td>\n",
              "      <td>D</td>\n",
              "      <td>D2</td>\n",
              "      <td>Postmaster</td>\n",
              "      <td>10+ years</td>\n",
              "      <td>MORTGAGE</td>\n",
              "      <td>90000.0</td>\n",
              "      <td>Source Verified</td>\n",
              "      <td>Dec-2018</td>\n",
              "      <td>Current</td>\n",
              "      <td>n</td>\n",
              "      <td>NaN</td>\n",
              "      <td>NaN</td>\n",
              "      <td>debt_consolidation</td>\n",
              "      <td>Debt consolidation</td>\n",
              "      <td>713xx</td>\n",
              "      <td>LA</td>\n",
              "      <td>26.52</td>\n",
              "      <td>0.0</td>\n",
              "      <td>Jun-1987</td>\n",
              "      <td>0.0</td>\n",
              "      <td>71.0</td>\n",
              "      <td>75.0</td>\n",
              "      <td>13.0</td>\n",
              "      <td>1.0</td>\n",
              "      <td>12315</td>\n",
              "      <td>24.2</td>\n",
              "      <td>44.0</td>\n",
              "      <td>w</td>\n",
              "      <td>29387.75</td>\n",
              "      <td>29387.75</td>\n",
              "      <td>1507.11</td>\n",
              "      <td>1507.11</td>\n",
              "      <td>...</td>\n",
              "      <td>1.0</td>\n",
              "      <td>0.0</td>\n",
              "      <td>372872.0</td>\n",
              "      <td>99468.0</td>\n",
              "      <td>15000.0</td>\n",
              "      <td>94072.0</td>\n",
              "      <td>NaN</td>\n",
              "      <td>NaN</td>\n",
              "      <td>NaN</td>\n",
              "      <td>NaN</td>\n",
              "      <td>NaN</td>\n",
              "      <td>NaN</td>\n",
              "      <td>NaN</td>\n",
              "      <td>NaN</td>\n",
              "      <td>NaN</td>\n",
              "      <td>NaN</td>\n",
              "      <td>NaN</td>\n",
              "      <td>N</td>\n",
              "      <td>NaN</td>\n",
              "      <td>NaN</td>\n",
              "      <td>NaN</td>\n",
              "      <td>NaN</td>\n",
              "      <td>NaN</td>\n",
              "      <td>NaN</td>\n",
              "      <td>NaN</td>\n",
              "      <td>NaN</td>\n",
              "      <td>NaN</td>\n",
              "      <td>NaN</td>\n",
              "      <td>NaN</td>\n",
              "      <td>NaN</td>\n",
              "      <td>NaN</td>\n",
              "      <td>NaN</td>\n",
              "      <td>Cash</td>\n",
              "      <td>N</td>\n",
              "      <td>NaN</td>\n",
              "      <td>NaN</td>\n",
              "      <td>NaN</td>\n",
              "      <td>NaN</td>\n",
              "      <td>NaN</td>\n",
              "      <td>NaN</td>\n",
              "    </tr>\n",
              "    <tr>\n",
              "      <th>2</th>\n",
              "      <td>NaN</td>\n",
              "      <td>NaN</td>\n",
              "      <td>5000</td>\n",
              "      <td>5000</td>\n",
              "      <td>5000.0</td>\n",
              "      <td>36 months</td>\n",
              "      <td>17.97</td>\n",
              "      <td>180.69</td>\n",
              "      <td>D</td>\n",
              "      <td>D1</td>\n",
              "      <td>Administrative</td>\n",
              "      <td>6 years</td>\n",
              "      <td>MORTGAGE</td>\n",
              "      <td>59280.0</td>\n",
              "      <td>Source Verified</td>\n",
              "      <td>Dec-2018</td>\n",
              "      <td>Current</td>\n",
              "      <td>n</td>\n",
              "      <td>NaN</td>\n",
              "      <td>NaN</td>\n",
              "      <td>debt_consolidation</td>\n",
              "      <td>Debt consolidation</td>\n",
              "      <td>490xx</td>\n",
              "      <td>MI</td>\n",
              "      <td>10.51</td>\n",
              "      <td>0.0</td>\n",
              "      <td>Apr-2011</td>\n",
              "      <td>0.0</td>\n",
              "      <td>NaN</td>\n",
              "      <td>NaN</td>\n",
              "      <td>8.0</td>\n",
              "      <td>0.0</td>\n",
              "      <td>4599</td>\n",
              "      <td>19.1</td>\n",
              "      <td>13.0</td>\n",
              "      <td>w</td>\n",
              "      <td>4787.21</td>\n",
              "      <td>4787.21</td>\n",
              "      <td>353.89</td>\n",
              "      <td>353.89</td>\n",
              "      <td>...</td>\n",
              "      <td>0.0</td>\n",
              "      <td>0.0</td>\n",
              "      <td>136927.0</td>\n",
              "      <td>11749.0</td>\n",
              "      <td>13800.0</td>\n",
              "      <td>10000.0</td>\n",
              "      <td>NaN</td>\n",
              "      <td>NaN</td>\n",
              "      <td>NaN</td>\n",
              "      <td>NaN</td>\n",
              "      <td>NaN</td>\n",
              "      <td>NaN</td>\n",
              "      <td>NaN</td>\n",
              "      <td>NaN</td>\n",
              "      <td>NaN</td>\n",
              "      <td>NaN</td>\n",
              "      <td>NaN</td>\n",
              "      <td>N</td>\n",
              "      <td>NaN</td>\n",
              "      <td>NaN</td>\n",
              "      <td>NaN</td>\n",
              "      <td>NaN</td>\n",
              "      <td>NaN</td>\n",
              "      <td>NaN</td>\n",
              "      <td>NaN</td>\n",
              "      <td>NaN</td>\n",
              "      <td>NaN</td>\n",
              "      <td>NaN</td>\n",
              "      <td>NaN</td>\n",
              "      <td>NaN</td>\n",
              "      <td>NaN</td>\n",
              "      <td>NaN</td>\n",
              "      <td>Cash</td>\n",
              "      <td>N</td>\n",
              "      <td>NaN</td>\n",
              "      <td>NaN</td>\n",
              "      <td>NaN</td>\n",
              "      <td>NaN</td>\n",
              "      <td>NaN</td>\n",
              "      <td>NaN</td>\n",
              "    </tr>\n",
              "    <tr>\n",
              "      <th>3</th>\n",
              "      <td>NaN</td>\n",
              "      <td>NaN</td>\n",
              "      <td>4000</td>\n",
              "      <td>4000</td>\n",
              "      <td>4000.0</td>\n",
              "      <td>36 months</td>\n",
              "      <td>18.94</td>\n",
              "      <td>146.51</td>\n",
              "      <td>D</td>\n",
              "      <td>D2</td>\n",
              "      <td>IT Supervisor</td>\n",
              "      <td>10+ years</td>\n",
              "      <td>MORTGAGE</td>\n",
              "      <td>92000.0</td>\n",
              "      <td>Source Verified</td>\n",
              "      <td>Dec-2018</td>\n",
              "      <td>Current</td>\n",
              "      <td>n</td>\n",
              "      <td>NaN</td>\n",
              "      <td>NaN</td>\n",
              "      <td>debt_consolidation</td>\n",
              "      <td>Debt consolidation</td>\n",
              "      <td>985xx</td>\n",
              "      <td>WA</td>\n",
              "      <td>16.74</td>\n",
              "      <td>0.0</td>\n",
              "      <td>Feb-2006</td>\n",
              "      <td>0.0</td>\n",
              "      <td>NaN</td>\n",
              "      <td>NaN</td>\n",
              "      <td>10.0</td>\n",
              "      <td>0.0</td>\n",
              "      <td>5468</td>\n",
              "      <td>78.1</td>\n",
              "      <td>13.0</td>\n",
              "      <td>w</td>\n",
              "      <td>3831.93</td>\n",
              "      <td>3831.93</td>\n",
              "      <td>286.71</td>\n",
              "      <td>286.71</td>\n",
              "      <td>...</td>\n",
              "      <td>0.0</td>\n",
              "      <td>0.0</td>\n",
              "      <td>385183.0</td>\n",
              "      <td>36151.0</td>\n",
              "      <td>5000.0</td>\n",
              "      <td>44984.0</td>\n",
              "      <td>NaN</td>\n",
              "      <td>NaN</td>\n",
              "      <td>NaN</td>\n",
              "      <td>NaN</td>\n",
              "      <td>NaN</td>\n",
              "      <td>NaN</td>\n",
              "      <td>NaN</td>\n",
              "      <td>NaN</td>\n",
              "      <td>NaN</td>\n",
              "      <td>NaN</td>\n",
              "      <td>NaN</td>\n",
              "      <td>N</td>\n",
              "      <td>NaN</td>\n",
              "      <td>NaN</td>\n",
              "      <td>NaN</td>\n",
              "      <td>NaN</td>\n",
              "      <td>NaN</td>\n",
              "      <td>NaN</td>\n",
              "      <td>NaN</td>\n",
              "      <td>NaN</td>\n",
              "      <td>NaN</td>\n",
              "      <td>NaN</td>\n",
              "      <td>NaN</td>\n",
              "      <td>NaN</td>\n",
              "      <td>NaN</td>\n",
              "      <td>NaN</td>\n",
              "      <td>Cash</td>\n",
              "      <td>N</td>\n",
              "      <td>NaN</td>\n",
              "      <td>NaN</td>\n",
              "      <td>NaN</td>\n",
              "      <td>NaN</td>\n",
              "      <td>NaN</td>\n",
              "      <td>NaN</td>\n",
              "    </tr>\n",
              "    <tr>\n",
              "      <th>4</th>\n",
              "      <td>NaN</td>\n",
              "      <td>NaN</td>\n",
              "      <td>30000</td>\n",
              "      <td>30000</td>\n",
              "      <td>30000.0</td>\n",
              "      <td>60 months</td>\n",
              "      <td>16.14</td>\n",
              "      <td>731.78</td>\n",
              "      <td>C</td>\n",
              "      <td>C4</td>\n",
              "      <td>Mechanic</td>\n",
              "      <td>10+ years</td>\n",
              "      <td>MORTGAGE</td>\n",
              "      <td>57250.0</td>\n",
              "      <td>Not Verified</td>\n",
              "      <td>Dec-2018</td>\n",
              "      <td>Current</td>\n",
              "      <td>n</td>\n",
              "      <td>NaN</td>\n",
              "      <td>NaN</td>\n",
              "      <td>debt_consolidation</td>\n",
              "      <td>Debt consolidation</td>\n",
              "      <td>212xx</td>\n",
              "      <td>MD</td>\n",
              "      <td>26.35</td>\n",
              "      <td>0.0</td>\n",
              "      <td>Dec-2000</td>\n",
              "      <td>0.0</td>\n",
              "      <td>NaN</td>\n",
              "      <td>NaN</td>\n",
              "      <td>12.0</td>\n",
              "      <td>0.0</td>\n",
              "      <td>829</td>\n",
              "      <td>3.6</td>\n",
              "      <td>26.0</td>\n",
              "      <td>w</td>\n",
              "      <td>29339.02</td>\n",
              "      <td>29339.02</td>\n",
              "      <td>1423.21</td>\n",
              "      <td>1423.21</td>\n",
              "      <td>...</td>\n",
              "      <td>0.0</td>\n",
              "      <td>0.0</td>\n",
              "      <td>157548.0</td>\n",
              "      <td>29674.0</td>\n",
              "      <td>9300.0</td>\n",
              "      <td>32332.0</td>\n",
              "      <td>NaN</td>\n",
              "      <td>NaN</td>\n",
              "      <td>NaN</td>\n",
              "      <td>NaN</td>\n",
              "      <td>NaN</td>\n",
              "      <td>NaN</td>\n",
              "      <td>NaN</td>\n",
              "      <td>NaN</td>\n",
              "      <td>NaN</td>\n",
              "      <td>NaN</td>\n",
              "      <td>NaN</td>\n",
              "      <td>N</td>\n",
              "      <td>NaN</td>\n",
              "      <td>NaN</td>\n",
              "      <td>NaN</td>\n",
              "      <td>NaN</td>\n",
              "      <td>NaN</td>\n",
              "      <td>NaN</td>\n",
              "      <td>NaN</td>\n",
              "      <td>NaN</td>\n",
              "      <td>NaN</td>\n",
              "      <td>NaN</td>\n",
              "      <td>NaN</td>\n",
              "      <td>NaN</td>\n",
              "      <td>NaN</td>\n",
              "      <td>NaN</td>\n",
              "      <td>Cash</td>\n",
              "      <td>N</td>\n",
              "      <td>NaN</td>\n",
              "      <td>NaN</td>\n",
              "      <td>NaN</td>\n",
              "      <td>NaN</td>\n",
              "      <td>NaN</td>\n",
              "      <td>NaN</td>\n",
              "    </tr>\n",
              "  </tbody>\n",
              "</table>\n",
              "<p>5 rows × 145 columns</p>\n",
              "</div>"
            ],
            "text/plain": [
              "   id  member_id  ...  settlement_percentage  settlement_term\n",
              "0 NaN        NaN  ...                    NaN              NaN\n",
              "1 NaN        NaN  ...                    NaN              NaN\n",
              "2 NaN        NaN  ...                    NaN              NaN\n",
              "3 NaN        NaN  ...                    NaN              NaN\n",
              "4 NaN        NaN  ...                    NaN              NaN\n",
              "\n",
              "[5 rows x 145 columns]"
            ]
          },
          "metadata": {
            "tags": []
          },
          "execution_count": 3
        }
      ]
    },
    {
      "cell_type": "markdown",
      "metadata": {
        "id": "7mQHKryBfTiB",
        "colab_type": "text"
      },
      "source": [
        "## Check column info and NULL values"
      ]
    },
    {
      "cell_type": "code",
      "metadata": {
        "id": "4LouDbzDfTiE",
        "colab_type": "code",
        "outputId": "f3886665-6e85-446f-85e9-e7b8fc98753e",
        "colab": {
          "base_uri": "https://localhost:8080/",
          "height": 1000
        }
      },
      "source": [
        "df.info(verbose=True, null_counts=True)"
      ],
      "execution_count": 4,
      "outputs": [
        {
          "output_type": "stream",
          "text": [
            "<class 'pandas.core.frame.DataFrame'>\n",
            "RangeIndex: 2260668 entries, 0 to 2260667\n",
            "Data columns (total 145 columns):\n",
            " #   Column                                      Non-Null Count    Dtype  \n",
            "---  ------                                      --------------    -----  \n",
            " 0   id                                          0 non-null        float64\n",
            " 1   member_id                                   0 non-null        float64\n",
            " 2   loan_amnt                                   2260668 non-null  int64  \n",
            " 3   funded_amnt                                 2260668 non-null  int64  \n",
            " 4   funded_amnt_inv                             2260668 non-null  float64\n",
            " 5   term                                        2260668 non-null  object \n",
            " 6   int_rate                                    2260668 non-null  float64\n",
            " 7   installment                                 2260668 non-null  float64\n",
            " 8   grade                                       2260668 non-null  object \n",
            " 9   sub_grade                                   2260668 non-null  object \n",
            " 10  emp_title                                   2093699 non-null  object \n",
            " 11  emp_length                                  2113761 non-null  object \n",
            " 12  home_ownership                              2260668 non-null  object \n",
            " 13  annual_inc                                  2260664 non-null  float64\n",
            " 14  verification_status                         2260668 non-null  object \n",
            " 15  issue_d                                     2260668 non-null  object \n",
            " 16  loan_status                                 2260668 non-null  object \n",
            " 17  pymnt_plan                                  2260668 non-null  object \n",
            " 18  url                                         0 non-null        float64\n",
            " 19  desc                                        126067 non-null   object \n",
            " 20  purpose                                     2260668 non-null  object \n",
            " 21  title                                       2237343 non-null  object \n",
            " 22  zip_code                                    2260667 non-null  object \n",
            " 23  addr_state                                  2260668 non-null  object \n",
            " 24  dti                                         2258957 non-null  float64\n",
            " 25  delinq_2yrs                                 2260639 non-null  float64\n",
            " 26  earliest_cr_line                            2260639 non-null  object \n",
            " 27  inq_last_6mths                              2260638 non-null  float64\n",
            " 28  mths_since_last_delinq                      1102166 non-null  float64\n",
            " 29  mths_since_last_record                      359156 non-null   float64\n",
            " 30  open_acc                                    2260639 non-null  float64\n",
            " 31  pub_rec                                     2260639 non-null  float64\n",
            " 32  revol_bal                                   2260668 non-null  int64  \n",
            " 33  revol_util                                  2258866 non-null  float64\n",
            " 34  total_acc                                   2260639 non-null  float64\n",
            " 35  initial_list_status                         2260668 non-null  object \n",
            " 36  out_prncp                                   2260668 non-null  float64\n",
            " 37  out_prncp_inv                               2260668 non-null  float64\n",
            " 38  total_pymnt                                 2260668 non-null  float64\n",
            " 39  total_pymnt_inv                             2260668 non-null  float64\n",
            " 40  total_rec_prncp                             2260668 non-null  float64\n",
            " 41  total_rec_int                               2260668 non-null  float64\n",
            " 42  total_rec_late_fee                          2260668 non-null  float64\n",
            " 43  recoveries                                  2260668 non-null  float64\n",
            " 44  collection_recovery_fee                     2260668 non-null  float64\n",
            " 45  last_pymnt_d                                2258242 non-null  object \n",
            " 46  last_pymnt_amnt                             2260668 non-null  float64\n",
            " 47  next_pymnt_d                                957061 non-null   object \n",
            " 48  last_credit_pull_d                          2260595 non-null  object \n",
            " 49  collections_12_mths_ex_med                  2260523 non-null  float64\n",
            " 50  mths_since_last_major_derog                 580775 non-null   float64\n",
            " 51  policy_code                                 2260668 non-null  int64  \n",
            " 52  application_type                            2260668 non-null  object \n",
            " 53  annual_inc_joint                            120710 non-null   float64\n",
            " 54  dti_joint                                   120706 non-null   float64\n",
            " 55  verification_status_joint                   115730 non-null   object \n",
            " 56  acc_now_delinq                              2260639 non-null  float64\n",
            " 57  tot_coll_amt                                2190392 non-null  float64\n",
            " 58  tot_cur_bal                                 2190392 non-null  float64\n",
            " 59  open_acc_6m                                 1394538 non-null  float64\n",
            " 60  open_act_il                                 1394539 non-null  float64\n",
            " 61  open_il_12m                                 1394539 non-null  float64\n",
            " 62  open_il_24m                                 1394539 non-null  float64\n",
            " 63  mths_since_rcnt_il                          1350744 non-null  float64\n",
            " 64  total_bal_il                                1394539 non-null  float64\n",
            " 65  il_util                                     1191818 non-null  float64\n",
            " 66  open_rv_12m                                 1394539 non-null  float64\n",
            " 67  open_rv_24m                                 1394539 non-null  float64\n",
            " 68  max_bal_bc                                  1394539 non-null  float64\n",
            " 69  all_util                                    1394320 non-null  float64\n",
            " 70  total_rev_hi_lim                            2190392 non-null  float64\n",
            " 71  inq_fi                                      1394539 non-null  float64\n",
            " 72  total_cu_tl                                 1394538 non-null  float64\n",
            " 73  inq_last_12m                                1394538 non-null  float64\n",
            " 74  acc_open_past_24mths                        2210638 non-null  float64\n",
            " 75  avg_cur_bal                                 2190322 non-null  float64\n",
            " 76  bc_open_to_buy                              2185733 non-null  float64\n",
            " 77  bc_util                                     2184597 non-null  float64\n",
            " 78  chargeoff_within_12_mths                    2260523 non-null  float64\n",
            " 79  delinq_amnt                                 2260639 non-null  float64\n",
            " 80  mo_sin_old_il_acct                          2121597 non-null  float64\n",
            " 81  mo_sin_old_rev_tl_op                        2190391 non-null  float64\n",
            " 82  mo_sin_rcnt_rev_tl_op                       2190391 non-null  float64\n",
            " 83  mo_sin_rcnt_tl                              2190392 non-null  float64\n",
            " 84  mort_acc                                    2210638 non-null  float64\n",
            " 85  mths_since_recent_bc                        2187256 non-null  float64\n",
            " 86  mths_since_recent_bc_dlq                    519701 non-null   float64\n",
            " 87  mths_since_recent_inq                       1965233 non-null  float64\n",
            " 88  mths_since_recent_revol_delinq              740359 non-null   float64\n",
            " 89  num_accts_ever_120_pd                       2190392 non-null  float64\n",
            " 90  num_actv_bc_tl                              2190392 non-null  float64\n",
            " 91  num_actv_rev_tl                             2190392 non-null  float64\n",
            " 92  num_bc_sats                                 2202078 non-null  float64\n",
            " 93  num_bc_tl                                   2190392 non-null  float64\n",
            " 94  num_il_tl                                   2190392 non-null  float64\n",
            " 95  num_op_rev_tl                               2190392 non-null  float64\n",
            " 96  num_rev_accts                               2190391 non-null  float64\n",
            " 97  num_rev_tl_bal_gt_0                         2190392 non-null  float64\n",
            " 98  num_sats                                    2202078 non-null  float64\n",
            " 99  num_tl_120dpd_2m                            2107011 non-null  float64\n",
            " 100 num_tl_30dpd                                2190392 non-null  float64\n",
            " 101 num_tl_90g_dpd_24m                          2190392 non-null  float64\n",
            " 102 num_tl_op_past_12m                          2190392 non-null  float64\n",
            " 103 pct_tl_nvr_dlq                              2190237 non-null  float64\n",
            " 104 percent_bc_gt_75                            2185289 non-null  float64\n",
            " 105 pub_rec_bankruptcies                        2259303 non-null  float64\n",
            " 106 tax_liens                                   2260563 non-null  float64\n",
            " 107 tot_hi_cred_lim                             2190392 non-null  float64\n",
            " 108 total_bal_ex_mort                           2210638 non-null  float64\n",
            " 109 total_bc_limit                              2210638 non-null  float64\n",
            " 110 total_il_high_credit_limit                  2190392 non-null  float64\n",
            " 111 revol_bal_joint                             108020 non-null   float64\n",
            " 112 sec_app_earliest_cr_line                    108021 non-null   object \n",
            " 113 sec_app_inq_last_6mths                      108021 non-null   float64\n",
            " 114 sec_app_mort_acc                            108021 non-null   float64\n",
            " 115 sec_app_open_acc                            108021 non-null   float64\n",
            " 116 sec_app_revol_util                          106184 non-null   float64\n",
            " 117 sec_app_open_act_il                         108021 non-null   float64\n",
            " 118 sec_app_num_rev_accts                       108021 non-null   float64\n",
            " 119 sec_app_chargeoff_within_12_mths            108021 non-null   float64\n",
            " 120 sec_app_collections_12_mths_ex_med          108021 non-null   float64\n",
            " 121 sec_app_mths_since_last_major_derog         35942 non-null    float64\n",
            " 122 hardship_flag                               2260668 non-null  object \n",
            " 123 hardship_type                               10613 non-null    object \n",
            " 124 hardship_reason                             10613 non-null    object \n",
            " 125 hardship_status                             10613 non-null    object \n",
            " 126 deferral_term                               10613 non-null    float64\n",
            " 127 hardship_amount                             10613 non-null    float64\n",
            " 128 hardship_start_date                         10613 non-null    object \n",
            " 129 hardship_end_date                           10613 non-null    object \n",
            " 130 payment_plan_start_date                     10613 non-null    object \n",
            " 131 hardship_length                             10613 non-null    float64\n",
            " 132 hardship_dpd                                10613 non-null    float64\n",
            " 133 hardship_loan_status                        10613 non-null    object \n",
            " 134 orig_projected_additional_accrued_interest  8426 non-null     float64\n",
            " 135 hardship_payoff_balance_amount              10613 non-null    float64\n",
            " 136 hardship_last_payment_amount                10613 non-null    float64\n",
            " 137 disbursement_method                         2260668 non-null  object \n",
            " 138 debt_settlement_flag                        2260668 non-null  object \n",
            " 139 debt_settlement_flag_date                   33056 non-null    object \n",
            " 140 settlement_status                           33056 non-null    object \n",
            " 141 settlement_date                             33056 non-null    object \n",
            " 142 settlement_amount                           33056 non-null    float64\n",
            " 143 settlement_percentage                       33056 non-null    float64\n",
            " 144 settlement_term                             33056 non-null    float64\n",
            "dtypes: float64(105), int64(4), object(36)\n",
            "memory usage: 2.4+ GB\n"
          ],
          "name": "stdout"
        }
      ]
    },
    {
      "cell_type": "markdown",
      "metadata": {
        "id": "PJdauOJAfTiP",
        "colab_type": "text"
      },
      "source": [
        "## Distribution of loan amount, term, year"
      ]
    },
    {
      "cell_type": "code",
      "metadata": {
        "id": "WUvGc2lyfTiQ",
        "colab_type": "code",
        "outputId": "ca6b3a2b-be32-4004-c351-75b11b6850ff",
        "colab": {
          "base_uri": "https://localhost:8080/",
          "height": 539
        }
      },
      "source": [
        "plt.figure(figsize=(12,8))\n",
        "# Plot the distribution of loan amount applied by borrower\n",
        "sns.distplot(df['loan_amnt'])\n",
        "# Plot the distribution loan amount committeed\n",
        "sns.distplot(df['funded_amnt'])\n",
        "# Plot the distribution of loan amount committed by investors\n",
        "sns.distplot(df['funded_amnt_inv'])\n",
        "plt.ylabel('Loan amount')\n",
        "ax1 = plt.axes()\n",
        "x_axis = ax1.axes.get_xaxis()\n",
        "x_label = x_axis.get_label()\n",
        "x_label.set_visible(False)"
      ],
      "execution_count": 5,
      "outputs": [
        {
          "output_type": "stream",
          "text": [
            "/usr/local/lib/python3.6/dist-packages/ipykernel_launcher.py:9: MatplotlibDeprecationWarning: Adding an axes using the same arguments as a previous axes currently reuses the earlier instance.  In a future version, a new instance will always be created and returned.  Meanwhile, this warning can be suppressed, and the future behavior ensured, by passing a unique label to each axes instance.\n",
            "  if __name__ == '__main__':\n"
          ],
          "name": "stderr"
        },
        {
          "output_type": "display_data",
          "data": {
            "image/png": "[encoded data removed]",
            "text/plain": [
              "<Figure size 864x576 with 1 Axes>"
            ]
          },
          "metadata": {
            "tags": [],
            "needs_background": "light"
          }
        }
      ]
    },
    {
      "cell_type": "code",
      "metadata": {
        "scrolled": true,
        "id": "XgK2ZPtkfTic",
        "colab_type": "code",
        "outputId": "86414d07-b389-4d78-8621-dd4bf40d547c",
        "colab": {
          "base_uri": "https://localhost:8080/",
          "height": 417
        }
      },
      "source": [
        "# Plot the term of the loans applied, in terms of percentage over all loans\n",
        "print (df['term'].value_counts(normalize=True))\n",
        "plt.figure(figsize=(8,5))\n",
        "sns.countplot(df['term'])"
      ],
      "execution_count": 6,
      "outputs": [
        {
          "output_type": "stream",
          "text": [
            " 36 months    0.71207\n",
            " 60 months    0.28793\n",
            "Name: term, dtype: float64\n"
          ],
          "name": "stdout"
        },
        {
          "output_type": "execute_result",
          "data": {
            "text/plain": [
              "<matplotlib.axes._subplots.AxesSubplot at 0x7f488563eef0>"
            ]
          },
          "metadata": {
            "tags": []
          },
          "execution_count": 6
        },
        {
          "output_type": "display_data",
          "data": {
            "image/png": "[encoded data removed]",
            "text/plain": [
              "<Figure size 576x360 with 1 Axes>"
            ]
          },
          "metadata": {
            "tags": [],
            "needs_background": "light"
          }
        }
      ]
    },
    {
      "cell_type": "code",
      "metadata": {
        "scrolled": true,
        "id": "MOX6hUlAfTik",
        "colab_type": "code",
        "outputId": "2b63f5a5-ea62-4131-e4e9-9e40008782ac",
        "colab": {
          "base_uri": "https://localhost:8080/",
          "height": 315
        }
      },
      "source": [
        "# Extract the year & month from issue_d and plot the average loan amount with respect to year\n",
        "df['issue_y'] = pd.to_datetime(df['issue_d'], format='%b-%Y', errors='coerce').apply(lambda x: x.year)\n",
        "df['issue_m'] = pd.to_datetime(df['issue_d'], format='%b-%Y', errors='coerce').apply(lambda x: x.month)\n",
        "# Plot the funded loan amount by year\n",
        "df.groupby('issue_y')['funded_amnt_inv'].mean().plot(kind='bar',color=['r', 'g', 'b', 'k', 'm', 'y'])\n",
        "# sns.lineplot(df.groupby('issue_y')['funded_amnt_inv'].mean().index, df.groupby('issue_y')['funded_amnt_inv'].mean().values)"
      ],
      "execution_count": 7,
      "outputs": [
        {
          "output_type": "execute_result",
          "data": {
            "text/plain": [
              "<matplotlib.axes._subplots.AxesSubplot at 0x7f485fc97c50>"
            ]
          },
          "metadata": {
            "tags": []
          },
          "execution_count": 7
        },
        {
          "output_type": "display_data",
          "data": {
            "image/png": "[encoded data removed]",
            "text/plain": [
              "<Figure size 432x288 with 1 Axes>"
            ]
          },
          "metadata": {
            "tags": [],
            "needs_background": "light"
          }
        }
      ]
    },
    {
      "cell_type": "markdown",
      "metadata": {
        "id": "Niqi3nngfTis",
        "colab_type": "text"
      },
      "source": [
        "### Observation\n",
        "* Loan amount applied follows a multi-nomial distribution, mostly falling within 10k - 20k range\n",
        "* Loan amount applied, funded and funded_invested follows similar distributions, this means most loans applied by eligible borrowers are approved and funded by investor \n",
        "* _71%_ of the loans applied are for _36_ months, while _29%_ are for _60_ months.\n",
        "* Average loan amount increases each year, with significant jump in _2009, peak around 2015-2018_. This is probably due to financial crisis in _2008_ , which resulted in low interest rate between _2009-2018_"
      ]
    },
    {
      "cell_type": "code",
      "metadata": {
        "id": "rcOb0R_UfTit",
        "colab_type": "code",
        "outputId": "00ebc7da-7993-404c-b36a-8fb86589c403",
        "colab": {
          "base_uri": "https://localhost:8080/",
          "height": 199
        }
      },
      "source": [
        "# Inspect loan status\n",
        "df['loan_status'].value_counts()"
      ],
      "execution_count": 8,
      "outputs": [
        {
          "output_type": "execute_result",
          "data": {
            "text/plain": [
              "Fully Paid                                             1041952\n",
              "Current                                                 919695\n",
              "Charged Off                                             261655\n",
              "Late (31-120 days)                                       21897\n",
              "In Grace Period                                           8952\n",
              "Late (16-30 days)                                         3737\n",
              "Does not meet the credit policy. Status:Fully Paid        1988\n",
              "Does not meet the credit policy. Status:Charged Off        761\n",
              "Default                                                     31\n",
              "Name: loan_status, dtype: int64"
            ]
          },
          "metadata": {
            "tags": []
          },
          "execution_count": 8
        }
      ]
    },
    {
      "cell_type": "markdown",
      "metadata": {
        "id": "4W_ngHfsfTiy",
        "colab_type": "text"
      },
      "source": [
        "## Good Loan v.s. Bad Loan\n",
        "\n",
        "* We categorise the loan as a bad loan if the loan status is any of these: _[\"Charged Off\", \"Default\", \"Does not meet the credit policy. Status:Charged Off\", \"In Grace Period\", \"Late (16-30 days)\", \"Late (31-120 days)\"]_\n",
        "* Also, there is a significant number of loans that are under the status of __\"Current\"__, which we cannot tell whether it is a good / bad loan. Hence, we need to __remove such loans__ before splitting into training/test dataset.\n",
        "* With this categorisation, we can see _13%_ of the loans are bad loans. Hence, this is a very __imbalanced dataset__, with large number of negatives if we are predicting bad loans\n",
        "* However, we have to keep in mind that some of the \"good\" loans are still in the process of getting paid, especially loans that are more recent in this time horizon. Hence, we observe higher percentage of good loans from _2016-2018_. But these may turn bad later."
      ]
    },
    {
      "cell_type": "code",
      "metadata": {
        "scrolled": false,
        "id": "-pHfP6kUfTi0",
        "colab_type": "code",
        "outputId": "32642b47-2ae9-4ed2-ec72-61d2413886e5",
        "colab": {
          "base_uri": "https://localhost:8080/",
          "height": 407
        }
      },
      "source": [
        "# Remove loans under \"Current\" status\n",
        "df = df[df['loan_status']!='Current']\n",
        "\n",
        "# We can categorise the loan as good / bad loan. \n",
        "# From the pie chart, 13% of the loans are bad loans\n",
        "f, ax = plt.subplots(1,2, figsize=(16,6))\n",
        "labels =\"Good Loans\", \"Bad Loans\"\n",
        "bad_loan_statuses = [\"Charged Off\", \"Default\", \"Does not meet the credit policy. Status:Charged Off\", \\\n",
        "                     \"In Grace Period\", \"Late (16-30 days)\", \"Late (31-120 days)\"]\n",
        "df['loan_condition'] = df['loan_status'].apply(lambda x: 'bad' if x in bad_loan_statuses else 'good')\n",
        "df['loan_condition'].value_counts().plot(kind='pie', explode=[0,0.2], autopct='%1.2f%%',\\\n",
        "                                         ax=ax[0], labels=labels, fontsize=12, startangle=70, shadow=True)\n",
        "ax[0].set_ylabel('% of Condition of Loans', fontsize=12)\n",
        "\n",
        "sns.barplot(x=\"issue_y\", y=\"loan_amnt\", hue=\"loan_condition\", data=df,\\\n",
        "            estimator=lambda x: len(x) / len(df) * 100)\n",
        "ax[1].set(ylabel=\"(%)\")"
      ],
      "execution_count": 9,
      "outputs": [
        {
          "output_type": "execute_result",
          "data": {
            "text/plain": [
              "[Text(0, 0.5, '(%)')]"
            ]
          },
          "metadata": {
            "tags": []
          },
          "execution_count": 9
        },
        {
          "output_type": "display_data",
          "data": {
            "image/png": "[encoded data removed]",
            "text/plain": [
              "<Figure size 1152x432 with 2 Axes>"
            ]
          },
          "metadata": {
            "tags": [],
            "needs_background": "light"
          }
        }
      ]
    },
    {
      "cell_type": "markdown",
      "metadata": {
        "id": "pBg7rqucfTi9",
        "colab_type": "text"
      },
      "source": [
        "## Plotting loans for each state\n",
        "\n",
        "We can see that Lending clubs borrowers are most active in the few states where economy is doing well, e.g. California, Texas, New York, Florida, Illinois etc. While the states with lowest amount of loans are mostly in the Mid-West, such as North Dakota, Idaho, South Dakota etc. "
      ]
    },
    {
      "cell_type": "code",
      "metadata": {
        "id": "MAmjun-1fTi-",
        "colab_type": "code",
        "outputId": "d931059b-18c8-4092-b347-fdbe0592cd89",
        "colab": {
          "base_uri": "https://localhost:8080/",
          "height": 417
        }
      },
      "source": [
        "# Examine which state has the highest & lowest amount of loan in total\n",
        "group_date = df.groupby(['addr_state'],as_index=False)['loan_amnt'].sum()\n",
        "top_6_states = group_date.sort_values('loan_amnt',ascending=False).iloc[0:6]\n",
        "btm_6_states = group_date.sort_values('loan_amnt').iloc[0:6]\n",
        "fig, axs = plt.subplots(1,2, figsize=(16,6))\n",
        "sns.barplot(x='addr_state', y='loan_amnt',data=top_6_states, ax=axs[0])\n",
        "sns.barplot(x='addr_state', y='loan_amnt',data=btm_6_states, ax=axs[1])\n",
        "axs[0].set_ylabel(\"Total Loan Amount\")\n",
        "axs[0].set_xlabel(\"State\")\n",
        "axs[1].set_ylabel(\"Total Loan Amount\")\n",
        "axs[1].set_xlabel(\"State\")"
      ],
      "execution_count": 10,
      "outputs": [
        {
          "output_type": "execute_result",
          "data": {
            "text/plain": [
              "Text(0.5, 0, 'State')"
            ]
          },
          "metadata": {
            "tags": []
          },
          "execution_count": 10
        },
        {
          "output_type": "display_data",
          "data": {
            "image/png": "[encoded data removed]",
            "text/plain": [
              "<Figure size 1152x432 with 2 Axes>"
            ]
          },
          "metadata": {
            "tags": [],
            "needs_background": "light"
          }
        }
      ]
    },
    {
      "cell_type": "markdown",
      "metadata": {
        "id": "bQq-JtkIfTjG",
        "colab_type": "text"
      },
      "source": [
        "### Observation\n",
        "By plotting the loan condition splits for the top 6 & bottomr 6 states, we can see that states differ in the percentage of bad loans. \n",
        "* For the top 6 states in terms of loan amount, most of them have close to the overall average (~13%) of bad loans. \n",
        "* While for the bottom 6 states, the generally have less than the average % of bad loans. This could be due to these states being more financially conservative. \n",
        "* This means that state has a bearing on the percentage of good v.s. bad loans somehow"
      ]
    },
    {
      "cell_type": "code",
      "metadata": {
        "id": "Tz4dzmwHfTjH",
        "colab_type": "code",
        "outputId": "8ba4f243-7500-4eac-a624-362286b28d30",
        "colab": {
          "base_uri": "https://localhost:8080/",
          "height": 1000
        }
      },
      "source": [
        "top_6_ls = list(top_6_states['addr_state'])\n",
        "btm_6_ls = list(btm_6_states['addr_state'])\n",
        "state_loan_condition = df.groupby('addr_state')['loan_condition'].value_counts(normalize=True).\\\n",
        "              unstack().reset_index().rename_axis(None, axis=1).set_index('addr_state')\n",
        "plot_df = pd.concat([state_loan_condition.loc[top_6_ls], state_loan_condition.loc[btm_6_ls]])\n",
        "# plot_df = state_loan_condition[~state_loan_condition.index.isin(['IA'])]\n",
        "# print (plot_df.count())\n",
        "# plot the pie good & bad loan percentage for the top 6 & bottom 6 states\n",
        "fig = plt.figure(figsize=(15,20))\n",
        "# print (state_loan_condition.count())\n",
        "for i, (name, row) in enumerate(plot_df.iterrows()):\n",
        "    ax = plt.subplot(4,3, i+1)\n",
        "    ax.set_title(\"State: %s\"%row.name)\n",
        "    ax.set_aspect('equal')\n",
        "    ax.pie(row, labels=row.index, autopct='%1.2f%%')"
      ],
      "execution_count": 11,
      "outputs": [
        {
          "output_type": "display_data",
          "data": {
            "image/png": "[encoded data removed]",
            "text/plain": [
              "<Figure size 1080x1440 with 12 Axes>"
            ]
          },
          "metadata": {
            "tags": []
          }
        }
      ]
    },
    {
      "cell_type": "markdown",
      "metadata": {
        "id": "pI-x_YsQfTjR",
        "colab_type": "text"
      },
      "source": [
        "## Loan metrics by region\n",
        "Hence, we decided to break down the country into four regions based on geography and plot some of the descriptive metrics for each region."
      ]
    },
    {
      "cell_type": "code",
      "metadata": {
        "id": "4HbwGuPjfTjU",
        "colab_type": "code",
        "colab": {}
      },
      "source": [
        "west = ['CA', 'OR', 'UT','WA', 'CO', 'NV', 'AK', 'MT', 'HI', 'WY', 'ID']\n",
        "south_west = ['AZ', 'TX', 'NM', 'OK']\n",
        "south_east = ['GA', 'NC', 'VA', 'FL', 'KY', 'SC', 'LA', 'AL', 'WV', 'DC', 'AR', 'DE', 'MS', 'TN' ]\n",
        "mid_west = ['IL', 'MO', 'MN', 'OH', 'WI', 'KS', 'MI', 'SD', 'IA', 'NE', 'IN', 'ND']\n",
        "north_east = ['CT', 'NY', 'PA', 'NJ', 'RI','MA', 'MD', 'VT', 'NH', 'ME']\n",
        "\n",
        "df['region'] = np.nan\n",
        "\n",
        "def finding_regions(state):\n",
        "    if state in west:\n",
        "        return 'West'\n",
        "    elif state in south_west:\n",
        "        return 'SouthWest'\n",
        "    elif state in south_east:\n",
        "        return 'SouthEast'\n",
        "    elif state in mid_west:\n",
        "        return 'MidWest'\n",
        "    elif state in north_east:\n",
        "        return 'NorthEast'\n",
        "\n",
        "df['region'] = df['addr_state'].apply(finding_regions)\n",
        "    \n",
        "df['emp_length_int'] = np.nan\n",
        "\n",
        "def update_emp_length_int(emp_length):\n",
        "    emp_length_int = None\n",
        "    if emp_length == '10+ years':\n",
        "        emp_length_int = 10\n",
        "    elif emp_length == '9 years':\n",
        "        emp_length_int = 9\n",
        "    elif emp_length == '8 years':\n",
        "        emp_length_int = 8\n",
        "    elif emp_length == '7 years':\n",
        "        emp_length_int = 7\n",
        "    elif emp_length == '6 years':\n",
        "        emp_length_int = 6\n",
        "    elif emp_length == '5 years': \n",
        "        emp_length_int = 5\n",
        "    elif emp_length == '4 years':\n",
        "        emp_length_int = 4\n",
        "    elif emp_length == '3 years':\n",
        "        emp_length_int = 3\n",
        "    elif emp_length == '2 years': \n",
        "        emp_length_int = 2\n",
        "    elif emp_length == '1 year':\n",
        "        emp_length_int = 1\n",
        "    elif emp_length == '< 1 year':\n",
        "        emp_length_int = 0.5\n",
        "    elif emp_length == 'n/a':\n",
        "        emp_length_int = 0    \n",
        "    return emp_length_int\n",
        "\n",
        "df['emp_length_int'] = df['emp_length'].apply(update_emp_length_int)\n",
        "\n",
        "# plt.style.use('dark_background')\n",
        "f, ax = plt.subplots(5,1, figsize=(15,25))\n",
        "\n",
        "grouped_df = df.groupby(['issue_y','region'])\n",
        "\n",
        "loan_by_region = grouped_df.loan_amnt.sum()\n",
        "# loan_by_region_date.head()\n",
        "loan_by_region.unstack().plot(ax=ax[0], stacked=False)\n",
        "ax[0].set_title('Loan amount by region')\n",
        "ax[0].set_xlabel('Year')\n",
        "\n",
        "int_rate_by_region = grouped_df.int_rate.mean()\n",
        "int_rate_by_region.unstack().plot(ax=ax[1])\n",
        "ax[1].set_title('Average interest rate by region')\n",
        "ax[1].set_xlabel('Year')\n",
        "\n",
        "dti_by_region = grouped_df.dti.mean()\n",
        "dti_by_region.unstack().plot(ax=ax[2])\n",
        "ax[2].set_title('Average debt-to-income ratio by region')\n",
        "ax[2].set_xlabel('Year')\n",
        "\n",
        "income_by_region = grouped_df.annual_inc.mean()\n",
        "income_by_region.unstack().plot(ax=ax[3])\n",
        "ax[3].set_title('Average annual income by region')\n",
        "ax[3].set_xlabel('Year')\n",
        "\n",
        "emp_length_by_region = grouped_df.emp_length_int.mean()\n",
        "emp_length_by_region.unstack().plot(ax=ax[4])\n",
        "ax[4].set_title('Average employment length by region')\n",
        "ax[4].set_xlabel('Year')"
      ],
      "execution_count": 0,
      "outputs": []
    },
    {
      "cell_type": "markdown",
      "metadata": {
        "id": "hu4kfPdTfTjj",
        "colab_type": "text"
      },
      "source": [
        "### Observation\n",
        "* SouthEast, West, NorthEast have the highest total loans amounts for most of the years, while SouthWest has the lowest \n",
        "* This also corresponds to the average interest rate per year, where SouthEast & NorthEast are the highest in most years. This means loans in SouthEast & NorthEast tend to give higher returns \n",
        "* Despite the low total loan amounts, SouthWest has the highest debt to income ratio. While NorthEast & West have rather low debt-to-income ratio\n",
        "* NorthEast & West have the highest average annual income, which might explain their low debt-to-income ratio\n",
        "* MidWest has the highest average employment length, but annual income are the lowest "
      ]
    },
    {
      "cell_type": "markdown",
      "metadata": {
        "id": "OegVxg35fTjk",
        "colab_type": "text"
      },
      "source": [
        "## Loan condition by region\n",
        "Here, we plot the loan condition - good / bad, for each region, similar to how we plotted by states"
      ]
    },
    {
      "cell_type": "code",
      "metadata": {
        "id": "H8gChg9sfTjl",
        "colab_type": "code",
        "colab": {}
      },
      "source": [
        "reg_loan_condition = df.groupby('region')['loan_condition'].value_counts(normalize=True).\\\n",
        "              unstack().reset_index().rename_axis(None, axis=1).set_index('region')\n",
        "# plot the pie good & bad loan percentage for each region\n",
        "fig = plt.figure(figsize=(15,20))\n",
        "# print (state_loan_condition.count())\n",
        "for i, (name, row) in enumerate(reg_loan_condition.iterrows()):\n",
        "    ax = plt.subplot(1,5, i+1)\n",
        "    ax.set_title(\"Region: %s\"%row.name)\n",
        "    ax.set_aspect('equal')\n",
        "    ax.pie(row, labels=row.index, autopct='%1.2f%%')"
      ],
      "execution_count": 0,
      "outputs": []
    },
    {
      "cell_type": "markdown",
      "metadata": {
        "id": "hgNMhRNvfTjt",
        "colab_type": "text"
      },
      "source": [
        "Let's have a closer look at breakdown of __bad loans__ for each region. We can see that for each state, majority of the bad loans are charged off. "
      ]
    },
    {
      "cell_type": "code",
      "metadata": {
        "scrolled": true,
        "id": "IbFkwOnGfTjv",
        "colab_type": "code",
        "colab": {}
      },
      "source": [
        "bad_loan_df = df[df['loan_condition']=='bad']\n",
        "# print (pd.crosstab(bad_loan_df['region'], bad_loan_df['loan_status']))\n",
        "fig = plt.figure(figsize=(15,30))\n",
        "bad_loan_df.groupby(['region','loan_status'])['loan_amnt'].count().unstack().plot(kind='bar',stacked=True).legend(bbox_to_anchor=(1.2, 0.5))"
      ],
      "execution_count": 0,
      "outputs": []
    },
    {
      "cell_type": "markdown",
      "metadata": {
        "id": "hOxsKDAIfTj3",
        "colab_type": "text"
      },
      "source": [
        "# 2. Data Pre-processing\n",
        "\n",
        "Next, we will perform data pre-processing to prepare the data to be used for prediction\n",
        "\n",
        "## Split the data into Train, Test set\n",
        "First, we split the dataframe into x - variables, y - labels (whether the loan is a good / bad loan). Here, we classify these loan status as bad loans, for which either the borrower is not able to pay back, or is late in payment. For this, we will use the newly created column: loan_condition, which will be the y label in our dataset. Later during training, we also need to __drop loan_status column__ from the x variables, because of its correlation with the label column."
      ]
    },
    {
      "cell_type": "code",
      "metadata": {
        "scrolled": true,
        "id": "RFDZxqMvfTj3",
        "colab_type": "code",
        "colab": {}
      },
      "source": [
        "y = df['loan_condition']\n",
        "x = df.drop(columns=['loan_condition'])\n",
        "# print (df.shape)\n",
        "# print (x.shape)\n",
        "# print (y.shape)\n",
        "x_train, x_test, y_train, y_test = train_test_split(x, y, test_size = 0.25, random_state=0)\n",
        "# print (x_train.shape)\n",
        "# print (x_test.shape)\n",
        "# print (y_train.shape)\n",
        "# print (y_test.shape)\n",
        "df_train = x_train.merge(y_train, left_index=True, right_index=True)\n",
        "df_test = x_test.merge(y_test, left_index=True, right_index=True)\n",
        "print (df_train.info(verbose=True, null_counts=True))\n",
        "print (df_test.info(verbose=True, null_counts=True))"
      ],
      "execution_count": 0,
      "outputs": []
    },
    {
      "cell_type": "markdown",
      "metadata": {
        "id": "L6feGHCmfTj-",
        "colab_type": "text"
      },
      "source": [
        "## Pre-processing of the training / test data\n",
        "From above information, we can see for quite a few columns, there are significant number of rows with null values. This is common for both the training and test dataset. Next, we will attempt to reduce some of the less useful columns, and also remove some outliers records.\n",
        "\n",
        "First, we try to reduce the feature set by checking how many columns has less than 30% of non-null values, and only keeping those. "
      ]
    },
    {
      "cell_type": "code",
      "metadata": {
        "id": "6J4ZdseBfTkA",
        "colab_type": "code",
        "colab": {}
      },
      "source": [
        "print (df.shape)\n",
        "null_col = df.isnull().sum()\n",
        "null_col = null_col[null_col.values >(0.3*len(df))]\n",
        "print (null_col.shape)\n",
        "plt.figure(figsize=(15,5))\n",
        "null_col.plot(kind='bar')\n",
        "plt.title('List of Columns & null counts where null values are more than 30% of the total')\n",
        "plt.show()"
      ],
      "execution_count": 0,
      "outputs": []
    },
    {
      "cell_type": "markdown",
      "metadata": {
        "id": "DYgz134NfTkF",
        "colab_type": "text"
      },
      "source": [
        "From above plot, we can see that out of the 151 columns from the original dataset, 58 columns have more than 30% of the rows with nul values. We will hence drop these 58 columns in both the training and test dataset, since too many null values will not help much in our training and prediction."
      ]
    },
    {
      "cell_type": "code",
      "metadata": {
        "id": "r-iCQdM5fTkI",
        "colab_type": "code",
        "colab": {}
      },
      "source": [
        "df_train.drop(columns=list(null_col.index), inplace=True)\n",
        "print (df_train.shape)\n",
        "df_test.drop(columns=list(null_col.index), inplace=True)\n",
        "print (df_test.shape)"
      ],
      "execution_count": 0,
      "outputs": []
    },
    {
      "cell_type": "markdown",
      "metadata": {
        "id": "Oi7RoGqUfTkR",
        "colab_type": "text"
      },
      "source": [
        "Similarly, we check if there are any rows that have less than 30% of non-null values populated. We will go ahead and remove those rows"
      ]
    },
    {
      "cell_type": "code",
      "metadata": {
        "id": "oo1VjMVAfTkS",
        "colab_type": "code",
        "colab": {}
      },
      "source": [
        "# Drop rows with too many null values, for training data\n",
        "df_transposed = df_train.transpose()\n",
        "null_rows = df_transposed.isnull().sum()\n",
        "null_rows = null_rows[null_rows.values >(0.3*len(df_transposed))]\n",
        "print (null_rows.shape)\n",
        "df_train.drop(axis=0, labels=list(null_rows.index), inplace=True)\n",
        "print (df_train.shape)\n",
        "\n",
        "# Drop rows with too many null values, for test data\n",
        "df_transposed = df_test.transpose()\n",
        "null_rows = df_transposed.isnull().sum()\n",
        "null_rows = null_rows[null_rows.values >(0.3*len(df_transposed))]\n",
        "print (null_rows.shape)\n",
        "df_test.drop(axis=0, labels=list(null_rows.index), inplace=True)\n",
        "print (df_test.shape)"
      ],
      "execution_count": 0,
      "outputs": []
    },
    {
      "cell_type": "markdown",
      "metadata": {
        "id": "3qdJDMagfTka",
        "colab_type": "text"
      },
      "source": [
        "After dropping null columns & rows, we check for columns where there is only one unique values. Those are not very useful in prediction, and hence we will remove those as well. We will do this for both the training and test dataset"
      ]
    },
    {
      "cell_type": "code",
      "metadata": {
        "id": "A_DUuT0afTka",
        "colab_type": "code",
        "colab": {}
      },
      "source": [
        "unique = df_train.nunique()\n",
        "df_train.drop(axis=1, labels=list(unique[unique==1].index), inplace=True)\n",
        "print (unique[unique==1])\n",
        "print (df_train.shape)\n",
        "\n",
        "unique = df_test.nunique()\n",
        "df_test.drop(axis=1, labels=list(unique[unique==1].index), inplace=True)\n",
        "print (unique[unique==1])\n",
        "print (df_test.shape)"
      ],
      "execution_count": 0,
      "outputs": []
    },
    {
      "cell_type": "markdown",
      "metadata": {
        "id": "n1kNj416fTke",
        "colab_type": "text"
      },
      "source": [
        "Next, we handle a few specific columns. We will do below for both the training & test dataset.\n",
        "* For employment length column, we will fill the null values with 0.\n",
        "* We will also drop the zip code column, as geographical information is already contained in state (addr_state) field."
      ]
    },
    {
      "cell_type": "code",
      "metadata": {
        "id": "xpzzrgRqfTkh",
        "colab_type": "code",
        "colab": {}
      },
      "source": [
        "# print (df_unique.emp_length.value_counts(dropna=False))\n",
        "df_train.emp_length.fillna(0, inplace=True)\n",
        "df_test.emp_length.fillna(0,inplace=True)\n",
        "df_train.drop(columns='zip_code',inplace=True)\n",
        "df_test.drop(columns='zip_code',inplace=True)\n",
        "print (df_train.shape)\n",
        "print (df_test.shape)"
      ],
      "execution_count": 0,
      "outputs": []
    },
    {
      "cell_type": "markdown",
      "metadata": {
        "id": "3pGwTrMNfTkp",
        "colab_type": "text"
      },
      "source": [
        "Next, we derive some useful columns based on domain understanding, which we believe can be useful for our training and prediction, including creating range variables for some of the most commonly used varables, such as loan_amnt, annual_inc, int_rate. We do this for both the training and test dataset. "
      ]
    },
    {
      "cell_type": "code",
      "metadata": {
        "id": "EVUK0JpkfTkr",
        "colab_type": "code",
        "colab": {}
      },
      "source": [
        "# Calculate the ratio of loan to annual income, as an indication of the risk for the borrower\n",
        "df_train['loan_to_income_ratio'] = df_train['loan_amnt'] / df_train['annual_inc']\n",
        "df_test['loan_to_income_ratio'] = df_test['loan_amnt'] / df_test['annual_inc']\n",
        "# In the previous section on explorative data analysis, we also added columns like issue_y, issue_m, region\n",
        "# pd.set_option('float_format', '{:f}'.format)\n",
        "# df_unique.describe()\n",
        "\n",
        "# Create bins for loan amount, annual income, interest rate\n",
        "bins = [0, 5000, 10000, 15000, 20000, 25000,40000]\n",
        "slot = ['0-5000', '5000-10000', '10000-15000', '15000-20000', '20000-25000','25000 and above']\n",
        "df_train['loan_amnt_range'] = pd.cut(df_train['loan_amnt'], bins, labels=slot)\n",
        "df_test['loan_amnt_range'] = pd.cut(df_test['loan_amnt'], bins, labels=slot)\n",
        "\n",
        "bins = [-1, 25000, 50000, 75000, 100000,110000000]\n",
        "slot = ['0-25000', '25000-50000', '50000-75000', '75000-100000', '100000 and above']\n",
        "df_train['annual_inc_range'] = pd.cut(df_train['annual_inc'], bins, labels=slot)\n",
        "df_test['annual_inc_range'] = pd.cut(df_test['annual_inc'], bins, labels=slot)\n",
        "\n",
        "bins = [0, 7.5, 10, 12.5, 15,35]\n",
        "slot = ['0-7.5', '7.5-10', '10-12.5', '12.5-15', '15 and above']\n",
        "df_train['int_rate_range'] = pd.cut(df_train['int_rate'], bins, labels=slot)\n",
        "df_test['int_rate_range'] = pd.cut(df_test['int_rate'], bins, labels=slot)\n",
        "\n",
        "print (df_train.shape)\n",
        "print (df_test.shape)"
      ],
      "execution_count": 0,
      "outputs": []
    },
    {
      "cell_type": "code",
      "metadata": {
        "id": "7UA2QjzGfTk2",
        "colab_type": "code",
        "colab": {}
      },
      "source": [
        "df_train.info(verbose=True, null_counts=True)\n",
        "df_train.drop(columns='full_date',inplace=True)\n",
        "df_test.drop(columns='full_date',inplace=True)"
      ],
      "execution_count": 0,
      "outputs": []
    },
    {
      "cell_type": "markdown",
      "metadata": {
        "id": "tmNm-vqZfTk9",
        "colab_type": "text"
      },
      "source": [
        "## Univariate Analysis - continuous variable\n",
        "\n",
        "Then, we will perform some __univariate analysis__ on both continuous and categorical variables, in order to remove outliers to further trim down on the number of rows. \n",
        "\n",
        "First, we examine of some of the key continuous variables, namely Loan Amount, Interest Rate, Annual Income"
      ]
    },
    {
      "cell_type": "code",
      "metadata": {
        "id": "Fn0mek8DfTk-",
        "colab_type": "code",
        "colab": {}
      },
      "source": [
        "# Plotting for Loan Amount, in training dataset\n",
        "fig, ax = plt.subplots(2,3,figsize=(21,10))\n",
        "ax[0][0].set_title(\"Distribution Plot - Loan Amount (Training Data)\")\n",
        "sns.distplot(df_train['loan_amnt'],ax=ax[0][0])\n",
        "ax[0][1].set_title(\"Violin Plot - Loan Amount (Training Data)\")\n",
        "sns.violinplot(data=df_train, x='loan_amnt',ax=ax[0][1], inner=\"quartile\")\n",
        "ax[0][2].set_title(\"Box Plot - Loan Amount (Training Data)\")\n",
        "sns.boxplot(data=df_train, x='loan_amnt',ax=ax[0][2],orient='v')\n",
        "\n",
        "# Plottting for Loan Amount, in test dataset\n",
        "ax[1][0].set_title(\"Distribution Plot - Loan Amount (Test Data)\")\n",
        "sns.distplot(df_test['loan_amnt'],ax=ax[1][0])\n",
        "ax[1][1].set_title(\"Violin Plot - Loan Amount (Test Data)\")\n",
        "sns.violinplot(data=df_test, x='loan_amnt',ax=ax[1][1], inner=\"quartile\")\n",
        "ax[1][2].set_title(\"Box Plot - Loan Amount (Test Data)\")\n",
        "sns.boxplot(data=df_test, x='loan_amnt',ax=ax[1][2],orient='v')\n",
        "\n",
        "# Extract outliers from the boxplot and remove the rows from training dataset\n",
        "outlier_train_loan_amnt = boxplot_stats(df_train['loan_amnt']).pop(0)['fliers']\n",
        "df_train = df_train[~df_train['loan_amnt'].isin(outlier_train_loan_amnt)]\n",
        "print (df_train.shape)\n",
        "\n",
        "# Extract outliers from the boxplot and remove the rows from training dataset\n",
        "outlier_test_loan_amnt = boxplot_stats(df_test['loan_amnt']).pop(0)['fliers']\n",
        "df_test = df_test[~df_test['loan_amnt'].isin(outlier_test_loan_amnt)]\n",
        "print (df_test.shape)"
      ],
      "execution_count": 0,
      "outputs": []
    },
    {
      "cell_type": "code",
      "metadata": {
        "id": "89Ave1nHfTlH",
        "colab_type": "code",
        "colab": {}
      },
      "source": [
        "# Plotting for Interest rate, in training dataset\n",
        "fig, ax = plt.subplots(2,3,figsize=(21,10))\n",
        "ax[0][0].set_title(\"Distribution Plot - Interest Rate (Training Data)\")\n",
        "sns.distplot(df_train['int_rate'],ax=ax[0][0])\n",
        "ax[0][1].set_title(\"Violin Plot - Interest Rate (Training Data)\")\n",
        "sns.violinplot(data=df_train, x='int_rate',ax=ax[0][1], inner=\"quartile\")\n",
        "ax[0][2].set_title(\"Box Plot - Interest Rate (Training Data)\")\n",
        "sns.boxplot(data=df_train, x='int_rate',ax=ax[0][2],orient='v')\n",
        "\n",
        "# Plottting for Interest Rate, in test dataset\n",
        "ax[1][0].set_title(\"Distribution Plot - Interest Rate (Test Data)\")\n",
        "sns.distplot(df_test['int_rate'],ax=ax[1][0])\n",
        "ax[1][1].set_title(\"Violin Plot - Interest Rate (Test Data)\")\n",
        "sns.violinplot(data=df_test, x='int_rate',ax=ax[1][1], inner=\"quartile\")\n",
        "ax[1][2].set_title(\"Box Plot - Interest Rate (Test Data)\")\n",
        "sns.boxplot(data=df_test, x='int_rate',ax=ax[1][2],orient='v')\n",
        "\n",
        "# Extract outliers from the boxplot and remove the rows from training dataset\n",
        "outlier_train_int_rate = boxplot_stats(df_train['int_rate']).pop(0)['fliers']\n",
        "df_train = df_train[~df_train['int_rate'].isin(outlier_train_int_rate)]\n",
        "print (df_train.shape)\n",
        "\n",
        "# Extract outliers from the boxplot and remove the rows from training dataset\n",
        "outlier_test_int_rate = boxplot_stats(df_test['int_rate']).pop(0)['fliers']\n",
        "df_test = df_test[~df_test['int_rate'].isin(outlier_test_int_rate)]\n",
        "print (df_test.shape)"
      ],
      "execution_count": 0,
      "outputs": []
    },
    {
      "cell_type": "code",
      "metadata": {
        "scrolled": true,
        "id": "yagaKTzjfTlQ",
        "colab_type": "code",
        "colab": {}
      },
      "source": [
        "# Optional to run this cell twice, as there are some extreme outliers that need to be removed in the first pass\n",
        "# Plotting for Annual income, in training dataset\n",
        "fig, ax = plt.subplots(2,3,figsize=(21,10))\n",
        "ax[0][0].set_title(\"Distribution Plot - Annual Income (Training Data)\")\n",
        "sns.distplot(df_train['annual_inc'],ax=ax[0][0])\n",
        "ax[0][1].set_title(\"Violin Plot - Annual Income (Training Data)\")\n",
        "sns.violinplot(data=df_train, x='annual_inc',ax=ax[0][1], inner=\"quartile\")\n",
        "ax[0][2].set_title(\"Box Plot - Annual Income (Training Data)\")\n",
        "sns.boxplot(data=df_train, x='annual_inc',ax=ax[0][2],orient='v')\n",
        "\n",
        "# Plottting for Annual Income, in test dataset\n",
        "ax[1][0].set_title(\"Distribution Plot - Annual Income (Test Data)\")\n",
        "sns.distplot(df_test['annual_inc'],ax=ax[1][0])\n",
        "ax[1][1].set_title(\"Violin Plot - Annual Income (Test Data)\")\n",
        "sns.violinplot(data=df_test, x='annual_inc',ax=ax[1][1], inner=\"quartile\")\n",
        "ax[1][2].set_title(\"Box Plot - Annual Income (Test Data)\")\n",
        "sns.boxplot(data=df_test, x='annual_inc',ax=ax[1][2],orient='v')\n",
        "\n",
        "# Extract outliers from the boxplot and remove the rows from training dataset\n",
        "outlier_train_annual_inc = boxplot_stats(df_train['annual_inc']).pop(0)['fliers']\n",
        "df_train = df_train[~df_train['annual_inc'].isin(outlier_train_annual_inc)]\n",
        "print (df_train.shape)\n",
        "\n",
        "# Extract outliers from the boxplot and remove the rows from training dataset\n",
        "outlier_test_annual_inc = boxplot_stats(df_test['annual_inc']).pop(0)['fliers']\n",
        "df_test = df_test[~df_test['annual_inc'].isin(outlier_test_annual_inc)]\n",
        "print (df_test.shape)"
      ],
      "execution_count": 0,
      "outputs": []
    },
    {
      "cell_type": "code",
      "metadata": {
        "scrolled": true,
        "id": "aj2P0YZPfTlV",
        "colab_type": "code",
        "colab": {}
      },
      "source": [
        "print (df_train.loan_amnt)\n",
        "print (df_train.int_rate.describe())\n",
        "print (df_train.annual_inc.describe())"
      ],
      "execution_count": 0,
      "outputs": []
    },
    {
      "cell_type": "markdown",
      "metadata": {
        "id": "MLwTesQpfTlZ",
        "colab_type": "text"
      },
      "source": [
        "### Observation (continuous variable)\n",
        "* After removing the outliers, we can see that most of the loans have loan amount between 8000-20000 USD \n",
        "* Most of the loans have interest rate between 5-15% \n",
        "* Most of the borrowers have annual income between 45000 to 90000 USD\n",
        "\n"
      ]
    },
    {
      "cell_type": "markdown",
      "metadata": {
        "id": "OnMuuc6efTla",
        "colab_type": "text"
      },
      "source": [
        "## Univariate Analysis - Categorical variables\n",
        "Next we investigate on some of the key categorical variables, namely Loan status, Purpose, Home Ownership, and Term of the loan"
      ]
    },
    {
      "cell_type": "code",
      "metadata": {
        "id": "fxcOZZOwfTlc",
        "colab_type": "code",
        "colab": {}
      },
      "source": [
        "# Plot for Loan Status\n",
        "print (df_train.loan_status.value_counts(normalize=True))\n",
        "print (df_test.loan_status.value_counts(normalize=True))\n",
        "f, ax = plt.subplots(2,1,figsize=(10,10))\n",
        "labels=[\"Fully Paid\", \"Charged Off\",  \"In Grace Period\", \"Late (31-120 days)\", \"Late (16-30 days)\", \"Default\"]\n",
        "\n",
        "# Plot for Loan Status - training data\n",
        "sns.countplot(data = df_train, x='loan_status', hue='loan_status', order = labels, hue_order=labels, dodge=False ,ax=ax[0])\n",
        "h,l = ax[0].get_legend_handles_labels()\n",
        "ax[0].legend(h,labels,title=\"Loan status\", loc=\"upper right\") \n",
        "ax[0].set_xticklabels(ax[0].get_xticklabels(), rotation=40, ha=\"right\")\n",
        "ax[0].set_title(\"Bar chart of Loan Status (Training Data)\")\n",
        "\n",
        "# Plot for Loan Status - test data\n",
        "sns.countplot(data = df_test, x='loan_status', hue='loan_status', order = labels, hue_order=labels, dodge=False ,ax=ax[1])\n",
        "h,l = ax[1].get_legend_handles_labels()\n",
        "ax[1].legend(h,labels,title=\"Loan status\", loc=\"upper right\") \n",
        "ax[1].set_xticklabels(ax[1].get_xticklabels(), rotation=40, ha=\"right\")\n",
        "ax[1].set_title(\"Bar chart of Loan Status (Test Data)\")\n",
        "\n",
        "plt.tight_layout()\n",
        "plt.show()"
      ],
      "execution_count": 0,
      "outputs": []
    },
    {
      "cell_type": "markdown",
      "metadata": {
        "id": "SREN11PMfTlf",
        "colab_type": "text"
      },
      "source": [
        "### Observation - Loan Status\n",
        "* Without considering loans that are \"Current\", the dataset is still quite imbalanced. Majority of the loans are fully paid, and bad loans account for a relatively small percentage of the total loans (20%-30%)"
      ]
    },
    {
      "cell_type": "code",
      "metadata": {
        "id": "mg4cfBKBfTli",
        "colab_type": "code",
        "colab": {}
      },
      "source": [
        "# Plot for Loan purpose\n",
        "# print (df_train.purpose.value_counts(normalize=True))\n",
        "# print (df_test.purpose.value_counts(normalize=True))\n",
        "f, ax = plt.subplots(2,1,figsize=(10,10))\n",
        "labels = list(df_train.purpose.value_counts().index)\n",
        "labels_status=[\"Fully Paid\", \"Charged Off\",  \"In Grace Period\", \"Late (31-120 days)\", \"Late (16-30 days)\", \"Default\"]\n",
        "\n",
        "# Plot for Loan purpose - training data\n",
        "# print (df_train.purpose.value_counts(normalize=True))\n",
        "sns.countplot(data = df_train, x='purpose', hue='loan_status', order = labels, dodge=False ,ax=ax[0])\n",
        "h,l = ax[0].get_legend_handles_labels()\n",
        "ax[0].legend(h,labels_status,title=\"Loan status\", loc=\"upper right\") \n",
        "ax[0].set_xticklabels(ax[0].get_xticklabels(), rotation=40, ha=\"right\")\n",
        "ax[0].set_title(\"Bar chart of Loan purpose (Training Data)\")\n",
        "\n",
        "# Plot for Loan Status - test data\n",
        "# print (df_test.purpose.value_counts(normalize=True))\n",
        "sns.countplot(data = df_test, x='purpose', hue='loan_status', order = labels, dodge=False ,ax=ax[1])\n",
        "h,l = ax[1].get_legend_handles_labels()\n",
        "ax[1].legend(h,labels_status,title=\"Loan status\", loc=\"upper right\") \n",
        "ax[1].set_xticklabels(ax[1].get_xticklabels(), rotation=40, ha=\"right\")\n",
        "ax[1].set_title(\"Bar chart of Loan purpose (Test Data)\")\n",
        "\n",
        "plt.tight_layout()\n",
        "plt.show()\n",
        "\n",
        "# Remove loans that are for \"educational\" purpose as they are not very representative of the larger dataset\n",
        "df_train = df_train[df_train['purpose']!='educational']\n",
        "df_test = df_test[df_test['purpose']!='educational']\n",
        "print (df_train.shape)\n",
        "print (df_test.shape)"
      ],
      "execution_count": 0,
      "outputs": []
    },
    {
      "cell_type": "markdown",
      "metadata": {
        "id": "Q0XCRlcCfTln",
        "colab_type": "text"
      },
      "source": [
        "### Observation - Purpose\n",
        "* Close to 60% of the loans are applied for debt consolidation purpose, i.e. to repay other debt.\n",
        "* Some of the loan purposes account for a minimal percentage, e.g. educational. These can be removed. "
      ]
    },
    {
      "cell_type": "code",
      "metadata": {
        "id": "HFhLzG1tfTln",
        "colab_type": "code",
        "colab": {}
      },
      "source": [
        "# Plot for Home ownership column\n",
        "# print (df_train.home_ownership.value_counts(normalize=True))\n",
        "# print (df_test.home_ownership.value_counts(normalize=True))\n",
        "# Remove rows that are a very small proportion of the total loans\n",
        "to_remove = ['ANY','NONE','OTHER']\n",
        "df_train = df_train[~df_train.home_ownership.isin(to_remove)]\n",
        "df_test = df_test[~df_test.home_ownership.isin(to_remove)]\n",
        "print (df_train.shape)\n",
        "print (df_test.shape)\n",
        "\n",
        "f, ax = plt.subplots(2,1,figsize=(8,8))\n",
        "labels = list(df_train.home_ownership.value_counts().index)\n",
        "labels_status=[\"Fully Paid\", \"Charged Off\",  \"In Grace Period\", \"Late (31-120 days)\", \"Late (16-30 days)\", \"Default\"]\n",
        "\n",
        "# Plot for Loan purpose - training data\n",
        "# print (df_train.purpose.value_counts(normalize=True))\n",
        "sns.countplot(data = df_train, x='home_ownership', hue='loan_status', order = labels, dodge=False ,ax=ax[0])\n",
        "h,l = ax[0].get_legend_handles_labels()\n",
        "ax[0].legend(h,labels_status,title=\"Home Ownership\", loc=\"upper right\") \n",
        "ax[0].set_xticklabels(ax[0].get_xticklabels(), rotation=40, ha=\"right\")\n",
        "ax[0].set_title(\"Bar chart of Home Ownership (Training Data)\")\n",
        "\n",
        "# Plot for Loan Status - test data\n",
        "# print (df_test.purpose.value_counts(normalize=True))\n",
        "sns.countplot(data = df_test, x='home_ownership', hue='loan_status', order = labels, dodge=False ,ax=ax[1])\n",
        "h,l = ax[1].get_legend_handles_labels()\n",
        "ax[1].legend(h,labels_status,title=\"Home Ownership\", loc=\"upper right\") \n",
        "ax[1].set_xticklabels(ax[1].get_xticklabels(), rotation=40, ha=\"right\")\n",
        "ax[1].set_title(\"Bar chart of Home Ownership (Test Data)\")\n",
        "\n",
        "plt.tight_layout()\n",
        "plt.show()"
      ],
      "execution_count": 0,
      "outputs": []
    },
    {
      "cell_type": "markdown",
      "metadata": {
        "id": "4VYA9NgcfTlr",
        "colab_type": "text"
      },
      "source": [
        "### Observation - Homeownership\n",
        "* Majority of the loans are registered with these home ownership status: _['MORTGAGE','RENT','OWN']_. Hence we will remove rows with the rest of the statuses"
      ]
    },
    {
      "cell_type": "code",
      "metadata": {
        "id": "zRR2juMMfTlr",
        "colab_type": "code",
        "colab": {}
      },
      "source": [
        "# Plot for Loan Term\n",
        "f, ax = plt.subplots(2,1,figsize=(6,8))\n",
        "labels = list(df_train.term.value_counts().index)\n",
        "labels_status=[\"Fully Paid\", \"Charged Off\",  \"In Grace Period\", \"Late (31-120 days)\", \"Late (16-30 days)\", \"Default\"]\n",
        "\n",
        "# Plot for Loan Term - training data\n",
        "sns.countplot(data = df_train, x='term', hue='loan_status', order = labels, dodge=False ,ax=ax[0])\n",
        "h,l = ax[0].get_legend_handles_labels()\n",
        "ax[0].legend(h,labels_status,title=\"Loan Status\", loc=\"upper right\") \n",
        "ax[0].set_xticklabels(ax[0].get_xticklabels(), rotation=40, ha=\"right\")\n",
        "ax[0].set_title(\"Bar chart of Loan term (Training Data)\")\n",
        "\n",
        "# Plot for Loan Term - test data\n",
        "sns.countplot(data = df_test, x='term', hue='loan_status', order = labels, dodge=False ,ax=ax[1])\n",
        "h,l = ax[1].get_legend_handles_labels()\n",
        "ax[1].legend(h,labels_status,title=\"Loan Status\", loc=\"upper right\") \n",
        "ax[1].set_xticklabels(ax[1].get_xticklabels(), rotation=40, ha=\"right\")\n",
        "ax[1].set_title(\"Bar chart of Loan term (Test Data)\")\n",
        "\n",
        "plt.tight_layout()\n",
        "plt.show()"
      ],
      "execution_count": 0,
      "outputs": []
    },
    {
      "cell_type": "markdown",
      "metadata": {
        "id": "Kdnt565RfTlw",
        "colab_type": "text"
      },
      "source": [
        "### Observation - Term\n",
        "* We can see that loans with a longer term (i.e. 60 months) are more likely to be bad loan"
      ]
    },
    {
      "cell_type": "code",
      "metadata": {
        "id": "FOhNApXRfTly",
        "colab_type": "code",
        "colab": {}
      },
      "source": [
        "# Plot for Debt Settlement Flag, which indicates whether or not the borrower, who has charged off, is working with a debt-settlement company\n",
        "f, ax = plt.subplots(2,1,figsize=(6,8))\n",
        "labels = list(df_train.debt_settlement_flag.value_counts().index)\n",
        "labels_status=[\"Fully Paid\", \"Charged Off\",  \"In Grace Period\", \"Late (31-120 days)\", \"Late (16-30 days)\", \"Default\"]\n",
        "\n",
        "# Plot for Debt Settlement Flag - training data\n",
        "sns.countplot(data = df_train, x='debt_settlement_flag', hue='loan_status', order = labels, dodge=False ,ax=ax[0])\n",
        "h,l = ax[0].get_legend_handles_labels()\n",
        "ax[0].legend(h,labels_status,title=\"Loan Status\", loc=\"upper right\") \n",
        "ax[0].set_xticklabels(ax[0].get_xticklabels(), rotation=40, ha=\"right\")\n",
        "ax[0].set_title(\"Bar chart of Debt Settlement Flag (Training Data)\")\n",
        "\n",
        "# Plot for Debt Settlement Flag - test data\n",
        "sns.countplot(data = df_test, x='debt_settlement_flag', hue='loan_status', order = labels, dodge=False ,ax=ax[1])\n",
        "h,l = ax[1].get_legend_handles_labels()\n",
        "ax[1].legend(h,labels_status,title=\"Loan Status\", loc=\"upper right\") \n",
        "ax[1].set_xticklabels(ax[1].get_xticklabels(), rotation=40, ha=\"right\")\n",
        "ax[1].set_title(\"Bar chart of Debt Settlement Flag (Test Data)\")\n",
        "\n",
        "plt.tight_layout()\n",
        "plt.show()"
      ],
      "execution_count": 0,
      "outputs": []
    },
    {
      "cell_type": "markdown",
      "metadata": {
        "id": "jmtRckPIfTl2",
        "colab_type": "text"
      },
      "source": [
        "### Observation - Debt Settlement Flag\n",
        "* From a business perspective, the debt settlement flag only applies if a loan has already been charged off.\n",
        "* Therefore, this flag is an outcome of the loan status, and hence we should not use it for determining a bad loan."
      ]
    },
    {
      "cell_type": "code",
      "metadata": {
        "id": "QcZzjjgXfTl3",
        "colab_type": "code",
        "colab": {}
      },
      "source": [
        "df_train.drop(columns='debt_settlement_flag',inplace=True)\n",
        "df_test.drop(columns='debt_settlement_flag',inplace=True)\n",
        "print (df_train.shape)\n",
        "print (df_test.shape)"
      ],
      "execution_count": 0,
      "outputs": []
    },
    {
      "cell_type": "markdown",
      "metadata": {
        "id": "Kc_6TAX4fTl7",
        "colab_type": "text"
      },
      "source": [
        "### Observation - Payment Plan\n",
        "* Another similar column is _pymnt_plan_ , from a business perspective, payment plan only applies if the loan is late, which indicates it is bad loan. Hence, we should not use _pymnt_plan_ for our prediction. "
      ]
    },
    {
      "cell_type": "code",
      "metadata": {
        "id": "CGbsjjrFfTl8",
        "colab_type": "code",
        "colab": {}
      },
      "source": [
        "print (df_train[df_train.pymnt_plan=='y']['loan_status'].value_counts())\n",
        "print (df_test[df_test.pymnt_plan=='y']['loan_status'].value_counts())\n",
        "df_train.drop(columns='pymnt_plan',inplace=True)\n",
        "df_test.drop(columns='pymnt_plan',inplace=True)\n",
        "print (df_train.shape)\n",
        "print (df_test.shape)"
      ],
      "execution_count": 0,
      "outputs": []
    },
    {
      "cell_type": "code",
      "metadata": {
        "id": "5ONPe-zPfTl_",
        "colab_type": "code",
        "colab": {}
      },
      "source": [
        "# Plot for Grade\n",
        "f, ax = plt.subplots(2,1,figsize=(16,8))\n",
        "labels = ['A','B','C','D','E','F','G']\n",
        "labels_status=[\"Fully Paid\", \"Charged Off\",  \"In Grace Period\", \"Late (31-120 days)\", \"Late (16-30 days)\", \"Default\"]\n",
        "\n",
        "# Plot for Loan Grade - training data\n",
        "sns.countplot(data = df_train, x='grade', hue='loan_status', order = labels, dodge=False ,ax=ax[0])\n",
        "h,l = ax[0].get_legend_handles_labels()\n",
        "ax[0].legend(h,labels_status,title=\"Loan Status\", loc=\"upper right\") \n",
        "ax[0].set_xticklabels(ax[0].get_xticklabels(), rotation=40, ha=\"right\")\n",
        "ax[0].set_title(\"Bar chart of Loan Grade (Training Data)\")\n",
        "\n",
        "# Plot for Loan Grade - test data\n",
        "sns.countplot(data = df_test, x='grade', hue='loan_status', order = labels, dodge=False ,ax=ax[1])\n",
        "h,l = ax[1].get_legend_handles_labels()\n",
        "ax[1].legend(h,labels_status,title=\"Loan Status\", loc=\"upper right\") \n",
        "ax[1].set_xticklabels(ax[1].get_xticklabels(), rotation=40, ha=\"right\")\n",
        "ax[1].set_title(\"Bar chart of Loan Grade (Test Data)\")\n",
        "\n",
        "plt.tight_layout()\n",
        "plt.show()"
      ],
      "execution_count": 0,
      "outputs": []
    },
    {
      "cell_type": "markdown",
      "metadata": {
        "id": "aQIi6NJ9fTmD",
        "colab_type": "text"
      },
      "source": [
        "### Observation - Grade\n",
        "* It would be common sense that the lower the grade the loan is, the higher the chance that it is a bad loan. This is indeed the case in above plot. \n",
        "* However, this raises the question whether _grade_ can be used a column for prediction, since this is the grade assigned by Lending Club itself, based on their prediction of the loan"
      ]
    },
    {
      "cell_type": "code",
      "metadata": {
        "id": "uQvLl9affTmD",
        "colab_type": "code",
        "colab": {}
      },
      "source": [
        "# Plot for Sub grade\n",
        "f, ax = plt.subplots(2,1,figsize=(20,8))\n",
        "labels = ['A1','A2','A3','A4','A5','B1','B2','B3','B4','B5','C1','C2','C3','C4','C5',\\\n",
        "          'D1','D2','D3','D4','D5','E1','E2','E3','E4','E5','F1','F2','F3','F4','F5','G1','G2','G3','G4','G5']\n",
        "labels_status=[\"Fully Paid\", \"Charged Off\",  \"In Grace Period\", \"Late (31-120 days)\", \"Late (16-30 days)\", \"Default\"]\n",
        "\n",
        "# Plot for Loan Grade - training data\n",
        "sns.countplot(data = df_train, x='sub_grade', hue='loan_status', order = labels, dodge=False ,ax=ax[0])\n",
        "h,l = ax[0].get_legend_handles_labels()\n",
        "ax[0].legend(h,labels_status,title=\"Loan Status\", loc=\"upper right\") \n",
        "ax[0].set_xticklabels(ax[0].get_xticklabels(), rotation=40, ha=\"right\")\n",
        "ax[0].set_title(\"Bar chart of Loan Sub grade (Training Data)\")\n",
        "\n",
        "# Plot for Loan Grade - test data\n",
        "sns.countplot(data = df_test, x='sub_grade', hue='loan_status', order = labels, dodge=False ,ax=ax[1])\n",
        "h,l = ax[1].get_legend_handles_labels()\n",
        "ax[1].legend(h,labels_status,title=\"Loan Status\", loc=\"upper right\") \n",
        "ax[1].set_xticklabels(ax[1].get_xticklabels(), rotation=40, ha=\"right\")\n",
        "ax[1].set_title(\"Bar chart of Loan Sub grade (Test Data)\")\n",
        "\n",
        "plt.tight_layout()\n",
        "plt.show()"
      ],
      "execution_count": 0,
      "outputs": []
    },
    {
      "cell_type": "markdown",
      "metadata": {
        "id": "ZK-mKn7ifTmH",
        "colab_type": "text"
      },
      "source": [
        "### Observation - Sub Grade\n",
        "* Similar to grade, we can see that the lower the sub-grade assigned by Lending Club, the higher the proportions of loans identified as bad loans. \n",
        "* We will think about whether to keep both Grade & Sub grade for prediction purpose."
      ]
    },
    {
      "cell_type": "markdown",
      "metadata": {
        "id": "L-nlNsPCfTmI",
        "colab_type": "text"
      },
      "source": [
        "## Bivariate/Multivariate Analysis\n",
        "Next, we will perform some analysis between variables, to investigate their relationship, for further findings before prediction. The analysis will be done on both the training and the test dataset.\n",
        "\n",
        "For example, in below analysis, we try to investigate relationship between __categorical variables__, such as _Loan Purpose, Employment Length, Loan Status_ and __continuous variable__ - _Loan Amount_"
      ]
    },
    {
      "cell_type": "code",
      "metadata": {
        "scrolled": true,
        "id": "VP-0gBP9fTmI",
        "colab_type": "code",
        "colab": {}
      },
      "source": [
        "# Analysis and Purpose of the loan v.s. Loan amount\n",
        "f, ax = plt.subplots(2,1,figsize=(20,25))\n",
        "\n",
        "# Plot for training dataset\n",
        "sns.boxplot(data=df_train, x='purpose', y='loan_amnt', hue ='loan_status',ax=ax[0])\n",
        "ax[0].set_xticklabels(ax[0].get_xticklabels(), rotation=40, ha=\"right\")\n",
        "ax[0].set_title('Loan Purpose vs Loan Amount')\n",
        "\n",
        "# Plot for test dataset\n",
        "sns.boxplot(data=df_test, x='purpose', y='loan_amnt', hue ='loan_status',ax=ax[1])\n",
        "ax[1].set_xticklabels(ax[1].get_xticklabels(), rotation=40, ha=\"right\")\n",
        "ax[1].set_title('Loan Purpose vs Loan Amount')\n",
        "plt.show()"
      ],
      "execution_count": 0,
      "outputs": []
    },
    {
      "cell_type": "markdown",
      "metadata": {
        "id": "aAPaulrMfTmN",
        "colab_type": "text"
      },
      "source": [
        "### Observation\n",
        "* From above plot, we can see that some of the common purposes that give rise to high loan amount are: _debt_consolidation, house, and small_business_\n",
        "* Most of the Loan defaults happens for loan purposes such as _credit_card, debt_consolidation & other_"
      ]
    },
    {
      "cell_type": "code",
      "metadata": {
        "id": "8t29CkfYfTmP",
        "colab_type": "code",
        "colab": {}
      },
      "source": [
        "# Remove redundant emp_length_int column, created in section 1 for plotting graphs\n",
        "df_train.drop(columns='emp_length_int',inplace=True)\n",
        "df_test.drop(columns='emp_length_int',inplace=True)\n",
        "\n",
        "# Analysis and Employment Length v.s. Loan amount\n",
        "f, ax = plt.subplots(2,1,figsize=(20,25))\n",
        "labels = ['< 1 year','1 year','2 years','3 years','4 years','5 years','6 years','7 years','8 years','9 years','10+ years']\n",
        "\n",
        "# Plot for training dataset\n",
        "sns.boxplot(data=df_train, x='emp_length', y='loan_amnt', order=labels, hue ='loan_status',ax=ax[0])\n",
        "ax[0].set_xticklabels(ax[0].get_xticklabels(), rotation=40, ha=\"right\")\n",
        "ax[0].set_title('Employment Length vs Loan Amount')\n",
        "\n",
        "# Plot for test dataset\n",
        "sns.boxplot(data=df_test, x='emp_length', y='loan_amnt', order=labels, hue ='loan_status',ax=ax[1])\n",
        "ax[1].set_xticklabels(ax[1].get_xticklabels(), rotation=40, ha=\"right\")\n",
        "ax[1].set_title('Employment Length vs Loan Amount')\n",
        "plt.show()"
      ],
      "execution_count": 0,
      "outputs": []
    },
    {
      "cell_type": "markdown",
      "metadata": {
        "id": "PS0K7SiFfTmT",
        "colab_type": "text"
      },
      "source": [
        "### Observation\n",
        "* We would have thought the lesser number of years employed, the more likely the borrower will apply for loans with larger amount. This is not necessarily the case except there are more outliers with exceptional large loan amounts.\n",
        "* In terms of the risk, we can see that borrowers with less employment length are not necessarily mean more risks of the loan. We can see the proportion of loans fully paid to be about the same amongst various employment lengths."
      ]
    },
    {
      "cell_type": "markdown",
      "metadata": {
        "id": "mMLkKM9dfTmT",
        "colab_type": "text"
      },
      "source": [
        "Next, we try to investigate the __correlation between continuous variables__ in the dataset. If two or more variables are high correlated, we should just keep one of the variables during training and prediction"
      ]
    },
    {
      "cell_type": "code",
      "metadata": {
        "id": "r_dpOh7wfTmT",
        "colab_type": "code",
        "colab": {}
      },
      "source": [
        "train_corr = df_train.corr()\n",
        "train_corr"
      ],
      "execution_count": 0,
      "outputs": []
    },
    {
      "cell_type": "markdown",
      "metadata": {
        "id": "jYTIjQknfTmX",
        "colab_type": "text"
      },
      "source": [
        ""
      ]
    },
    {
      "cell_type": "code",
      "metadata": {
        "id": "J8dTttMXfTmX",
        "colab_type": "code",
        "colab": {}
      },
      "source": [
        "f, ax = plt.subplots(figsize=(30, 25))\n",
        "sns.heatmap(train_corr, \n",
        "            xticklabels=train_corr.columns.values,\n",
        "            yticklabels=train_corr.columns.values,annot= True)\n",
        "plt.show()"
      ],
      "execution_count": 0,
      "outputs": []
    },
    {
      "cell_type": "markdown",
      "metadata": {
        "id": "spNVVZMQfTmb",
        "colab_type": "text"
      },
      "source": [
        "### Observation\n",
        "We inspect which columns have correlation score of 0.95 and above, and remove the redundant columns, for both training and test set.\n",
        "* As we have previously suspected, _[loan_amnt, funded_amnt, funded_amnt_inv]_ are highly correlated. We can thus keep __loan_amnt__ only, for our prediction model\n",
        "* Similarly, _[total_pymnt, total_pymnt, total_rec_int]_ are highly correlated, as all these indicate the total payment received to date. Hence, we can keep __total_pymnt__ column only. \n",
        "* _[num_sats, open_acc]_ are also perfectly correlated as both indicate the number of accounts already opened by the borrower. We can thus keep __open_acc__ only.\n",
        "* _[tot_cur_bal, tot_hi_cred_lim]_ are highly correlated as both indicate the total credit limit / current balance of the borrower. We will keep __total_cur_bal__, for our prediction purpose\n",
        "* _[num_actv_rev_tl, num_rev_tl_bal_gt_0]_ are both linked to the number of revolving trade, and highly correlated. We will ony keep __num_actv_rev_tl__ in this case."
      ]
    },
    {
      "cell_type": "code",
      "metadata": {
        "id": "x4ksPPpxfTmb",
        "colab_type": "code",
        "colab": {}
      },
      "source": [
        "redundant_cols = ['funded_amnt', 'funded_amnt_inv', 'total_pymnt', \\\n",
        "                  'total_rec_int', 'num_sats', 'tot_hi_cred_lim','num_rev_tl_bal_gt_0']\n",
        "df_train.drop(columns=redundant_cols, inplace=True)\n",
        "df_test.drop(columns=redundant_cols, inplace=True)\n",
        "\n",
        "print (df_train.shape)\n",
        "print (df_test.shape)"
      ],
      "execution_count": 0,
      "outputs": []
    },
    {
      "cell_type": "code",
      "metadata": {
        "id": "UUN2ArBcfTmg",
        "colab_type": "code",
        "colab": {}
      },
      "source": [
        "df_train.info(verbose=True, null_counts=True)"
      ],
      "execution_count": 0,
      "outputs": []
    },
    {
      "cell_type": "markdown",
      "metadata": {
        "id": "VGiBahxffTmk",
        "colab_type": "text"
      },
      "source": [
        ""
      ]
    },
    {
      "cell_type": "code",
      "metadata": {
        "id": "RwHR0BpQfTml",
        "colab_type": "code",
        "colab": {}
      },
      "source": [
        ""
      ],
      "execution_count": 0,
      "outputs": []
    },
    {
      "cell_type": "code",
      "metadata": {
        "id": "Df3wqmkAfTmn",
        "colab_type": "code",
        "colab": {}
      },
      "source": [
        ""
      ],
      "execution_count": 0,
      "outputs": []
    }
  ]
}