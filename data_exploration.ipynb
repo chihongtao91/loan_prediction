{
 "cells": [
  {
   "cell_type": "markdown",
   "metadata": {},
   "source": [
    "## Data Exploration"
   ]
  },
  {
   "cell_type": "markdown",
   "metadata": {},
   "source": [
    "**Import necessary packages**"
   ]
  },
  {
   "cell_type": "code",
   "execution_count": 14,
   "metadata": {},
   "outputs": [
    {
     "name": "stderr",
     "output_type": "stream",
     "text": [
      "UsageError: Line magic function `%` not found.\n"
     ]
    }
   ],
   "source": [
    "import pandas as pd\n",
    "import numpy as np\n",
    "import seaborn as sns\n",
    "\n",
    "% matplotlib inline"
   ]
  },
  {
   "cell_type": "markdown",
   "metadata": {},
   "source": [
    "**Read CSV File**"
   ]
  },
  {
   "cell_type": "code",
   "execution_count": 6,
   "metadata": {},
   "outputs": [
    {
     "name": "stderr",
     "output_type": "stream",
     "text": [
      "/Users/chihongtao/anaconda/envs/notebook/lib/python3.8/site-packages/IPython/core/interactiveshell.py:3062: DtypeWarning: Columns (19,47,55,112,123,124,125,128,129,130,133,139,140,141) have mixed types.Specify dtype option on import or set low_memory=False.\n",
      "  has_raised = await self.run_ast_nodes(code_ast.body, cell_name,\n"
     ]
    },
    {
     "data": {
      "text/html": [
       "<div>\n",
       "<style scoped>\n",
       "    .dataframe tbody tr th:only-of-type {\n",
       "        vertical-align: middle;\n",
       "    }\n",
       "\n",
       "    .dataframe tbody tr th {\n",
       "        vertical-align: top;\n",
       "    }\n",
       "\n",
       "    .dataframe thead th {\n",
       "        text-align: right;\n",
       "    }\n",
       "</style>\n",
       "<table border=\"1\" class=\"dataframe\">\n",
       "  <thead>\n",
       "    <tr style=\"text-align: right;\">\n",
       "      <th></th>\n",
       "      <th>id</th>\n",
       "      <th>member_id</th>\n",
       "      <th>loan_amnt</th>\n",
       "      <th>funded_amnt</th>\n",
       "      <th>funded_amnt_inv</th>\n",
       "      <th>term</th>\n",
       "      <th>int_rate</th>\n",
       "      <th>installment</th>\n",
       "      <th>grade</th>\n",
       "      <th>sub_grade</th>\n",
       "      <th>...</th>\n",
       "      <th>hardship_payoff_balance_amount</th>\n",
       "      <th>hardship_last_payment_amount</th>\n",
       "      <th>disbursement_method</th>\n",
       "      <th>debt_settlement_flag</th>\n",
       "      <th>debt_settlement_flag_date</th>\n",
       "      <th>settlement_status</th>\n",
       "      <th>settlement_date</th>\n",
       "      <th>settlement_amount</th>\n",
       "      <th>settlement_percentage</th>\n",
       "      <th>settlement_term</th>\n",
       "    </tr>\n",
       "  </thead>\n",
       "  <tbody>\n",
       "    <tr>\n",
       "      <th>0</th>\n",
       "      <td>NaN</td>\n",
       "      <td>NaN</td>\n",
       "      <td>2500</td>\n",
       "      <td>2500</td>\n",
       "      <td>2500.0</td>\n",
       "      <td>36 months</td>\n",
       "      <td>13.56</td>\n",
       "      <td>84.92</td>\n",
       "      <td>C</td>\n",
       "      <td>C1</td>\n",
       "      <td>...</td>\n",
       "      <td>NaN</td>\n",
       "      <td>NaN</td>\n",
       "      <td>Cash</td>\n",
       "      <td>N</td>\n",
       "      <td>NaN</td>\n",
       "      <td>NaN</td>\n",
       "      <td>NaN</td>\n",
       "      <td>NaN</td>\n",
       "      <td>NaN</td>\n",
       "      <td>NaN</td>\n",
       "    </tr>\n",
       "    <tr>\n",
       "      <th>1</th>\n",
       "      <td>NaN</td>\n",
       "      <td>NaN</td>\n",
       "      <td>30000</td>\n",
       "      <td>30000</td>\n",
       "      <td>30000.0</td>\n",
       "      <td>60 months</td>\n",
       "      <td>18.94</td>\n",
       "      <td>777.23</td>\n",
       "      <td>D</td>\n",
       "      <td>D2</td>\n",
       "      <td>...</td>\n",
       "      <td>NaN</td>\n",
       "      <td>NaN</td>\n",
       "      <td>Cash</td>\n",
       "      <td>N</td>\n",
       "      <td>NaN</td>\n",
       "      <td>NaN</td>\n",
       "      <td>NaN</td>\n",
       "      <td>NaN</td>\n",
       "      <td>NaN</td>\n",
       "      <td>NaN</td>\n",
       "    </tr>\n",
       "    <tr>\n",
       "      <th>2</th>\n",
       "      <td>NaN</td>\n",
       "      <td>NaN</td>\n",
       "      <td>5000</td>\n",
       "      <td>5000</td>\n",
       "      <td>5000.0</td>\n",
       "      <td>36 months</td>\n",
       "      <td>17.97</td>\n",
       "      <td>180.69</td>\n",
       "      <td>D</td>\n",
       "      <td>D1</td>\n",
       "      <td>...</td>\n",
       "      <td>NaN</td>\n",
       "      <td>NaN</td>\n",
       "      <td>Cash</td>\n",
       "      <td>N</td>\n",
       "      <td>NaN</td>\n",
       "      <td>NaN</td>\n",
       "      <td>NaN</td>\n",
       "      <td>NaN</td>\n",
       "      <td>NaN</td>\n",
       "      <td>NaN</td>\n",
       "    </tr>\n",
       "    <tr>\n",
       "      <th>3</th>\n",
       "      <td>NaN</td>\n",
       "      <td>NaN</td>\n",
       "      <td>4000</td>\n",
       "      <td>4000</td>\n",
       "      <td>4000.0</td>\n",
       "      <td>36 months</td>\n",
       "      <td>18.94</td>\n",
       "      <td>146.51</td>\n",
       "      <td>D</td>\n",
       "      <td>D2</td>\n",
       "      <td>...</td>\n",
       "      <td>NaN</td>\n",
       "      <td>NaN</td>\n",
       "      <td>Cash</td>\n",
       "      <td>N</td>\n",
       "      <td>NaN</td>\n",
       "      <td>NaN</td>\n",
       "      <td>NaN</td>\n",
       "      <td>NaN</td>\n",
       "      <td>NaN</td>\n",
       "      <td>NaN</td>\n",
       "    </tr>\n",
       "    <tr>\n",
       "      <th>4</th>\n",
       "      <td>NaN</td>\n",
       "      <td>NaN</td>\n",
       "      <td>30000</td>\n",
       "      <td>30000</td>\n",
       "      <td>30000.0</td>\n",
       "      <td>60 months</td>\n",
       "      <td>16.14</td>\n",
       "      <td>731.78</td>\n",
       "      <td>C</td>\n",
       "      <td>C4</td>\n",
       "      <td>...</td>\n",
       "      <td>NaN</td>\n",
       "      <td>NaN</td>\n",
       "      <td>Cash</td>\n",
       "      <td>N</td>\n",
       "      <td>NaN</td>\n",
       "      <td>NaN</td>\n",
       "      <td>NaN</td>\n",
       "      <td>NaN</td>\n",
       "      <td>NaN</td>\n",
       "      <td>NaN</td>\n",
       "    </tr>\n",
       "  </tbody>\n",
       "</table>\n",
       "<p>5 rows × 145 columns</p>\n",
       "</div>"
      ],
      "text/plain": [
       "   id  member_id  loan_amnt  funded_amnt  funded_amnt_inv        term  \\\n",
       "0 NaN        NaN       2500         2500           2500.0   36 months   \n",
       "1 NaN        NaN      30000        30000          30000.0   60 months   \n",
       "2 NaN        NaN       5000         5000           5000.0   36 months   \n",
       "3 NaN        NaN       4000         4000           4000.0   36 months   \n",
       "4 NaN        NaN      30000        30000          30000.0   60 months   \n",
       "\n",
       "   int_rate  installment grade sub_grade  ... hardship_payoff_balance_amount  \\\n",
       "0     13.56        84.92     C        C1  ...                            NaN   \n",
       "1     18.94       777.23     D        D2  ...                            NaN   \n",
       "2     17.97       180.69     D        D1  ...                            NaN   \n",
       "3     18.94       146.51     D        D2  ...                            NaN   \n",
       "4     16.14       731.78     C        C4  ...                            NaN   \n",
       "\n",
       "  hardship_last_payment_amount disbursement_method  debt_settlement_flag  \\\n",
       "0                          NaN                Cash                     N   \n",
       "1                          NaN                Cash                     N   \n",
       "2                          NaN                Cash                     N   \n",
       "3                          NaN                Cash                     N   \n",
       "4                          NaN                Cash                     N   \n",
       "\n",
       "  debt_settlement_flag_date settlement_status settlement_date  \\\n",
       "0                       NaN               NaN             NaN   \n",
       "1                       NaN               NaN             NaN   \n",
       "2                       NaN               NaN             NaN   \n",
       "3                       NaN               NaN             NaN   \n",
       "4                       NaN               NaN             NaN   \n",
       "\n",
       "  settlement_amount  settlement_percentage settlement_term  \n",
       "0               NaN                    NaN             NaN  \n",
       "1               NaN                    NaN             NaN  \n",
       "2               NaN                    NaN             NaN  \n",
       "3               NaN                    NaN             NaN  \n",
       "4               NaN                    NaN             NaN  \n",
       "\n",
       "[5 rows x 145 columns]"
      ]
     },
     "execution_count": 6,
     "metadata": {},
     "output_type": "execute_result"
    }
   ],
   "source": [
    "df = pd.read_csv('loan.csv',low_memory=True)\n",
    "df.head()"
   ]
  },
  {
   "cell_type": "markdown",
   "metadata": {},
   "source": [
    "**Check colum info and NULL values**"
   ]
  },
  {
   "cell_type": "code",
   "execution_count": 9,
   "metadata": {},
   "outputs": [
    {
     "name": "stdout",
     "output_type": "stream",
     "text": [
      "<class 'pandas.core.frame.DataFrame'>\n",
      "RangeIndex: 2260668 entries, 0 to 2260667\n",
      "Data columns (total 145 columns):\n",
      " #   Column                                      Non-Null Count    Dtype  \n",
      "---  ------                                      --------------    -----  \n",
      " 0   id                                          0 non-null        float64\n",
      " 1   member_id                                   0 non-null        float64\n",
      " 2   loan_amnt                                   2260668 non-null  int64  \n",
      " 3   funded_amnt                                 2260668 non-null  int64  \n",
      " 4   funded_amnt_inv                             2260668 non-null  float64\n",
      " 5   term                                        2260668 non-null  object \n",
      " 6   int_rate                                    2260668 non-null  float64\n",
      " 7   installment                                 2260668 non-null  float64\n",
      " 8   grade                                       2260668 non-null  object \n",
      " 9   sub_grade                                   2260668 non-null  object \n",
      " 10  emp_title                                   2093699 non-null  object \n",
      " 11  emp_length                                  2113761 non-null  object \n",
      " 12  home_ownership                              2260668 non-null  object \n",
      " 13  annual_inc                                  2260664 non-null  float64\n",
      " 14  verification_status                         2260668 non-null  object \n",
      " 15  issue_d                                     2260668 non-null  object \n",
      " 16  loan_status                                 2260668 non-null  object \n",
      " 17  pymnt_plan                                  2260668 non-null  object \n",
      " 18  url                                         0 non-null        float64\n",
      " 19  desc                                        126067 non-null   object \n",
      " 20  purpose                                     2260668 non-null  object \n",
      " 21  title                                       2237343 non-null  object \n",
      " 22  zip_code                                    2260667 non-null  object \n",
      " 23  addr_state                                  2260668 non-null  object \n",
      " 24  dti                                         2258957 non-null  float64\n",
      " 25  delinq_2yrs                                 2260639 non-null  float64\n",
      " 26  earliest_cr_line                            2260639 non-null  object \n",
      " 27  inq_last_6mths                              2260638 non-null  float64\n",
      " 28  mths_since_last_delinq                      1102166 non-null  float64\n",
      " 29  mths_since_last_record                      359156 non-null   float64\n",
      " 30  open_acc                                    2260639 non-null  float64\n",
      " 31  pub_rec                                     2260639 non-null  float64\n",
      " 32  revol_bal                                   2260668 non-null  int64  \n",
      " 33  revol_util                                  2258866 non-null  float64\n",
      " 34  total_acc                                   2260639 non-null  float64\n",
      " 35  initial_list_status                         2260668 non-null  object \n",
      " 36  out_prncp                                   2260668 non-null  float64\n",
      " 37  out_prncp_inv                               2260668 non-null  float64\n",
      " 38  total_pymnt                                 2260668 non-null  float64\n",
      " 39  total_pymnt_inv                             2260668 non-null  float64\n",
      " 40  total_rec_prncp                             2260668 non-null  float64\n",
      " 41  total_rec_int                               2260668 non-null  float64\n",
      " 42  total_rec_late_fee                          2260668 non-null  float64\n",
      " 43  recoveries                                  2260668 non-null  float64\n",
      " 44  collection_recovery_fee                     2260668 non-null  float64\n",
      " 45  last_pymnt_d                                2258242 non-null  object \n",
      " 46  last_pymnt_amnt                             2260668 non-null  float64\n",
      " 47  next_pymnt_d                                957061 non-null   object \n",
      " 48  last_credit_pull_d                          2260595 non-null  object \n",
      " 49  collections_12_mths_ex_med                  2260523 non-null  float64\n",
      " 50  mths_since_last_major_derog                 580775 non-null   float64\n",
      " 51  policy_code                                 2260668 non-null  int64  \n",
      " 52  application_type                            2260668 non-null  object \n",
      " 53  annual_inc_joint                            120710 non-null   float64\n",
      " 54  dti_joint                                   120706 non-null   float64\n",
      " 55  verification_status_joint                   115730 non-null   object \n",
      " 56  acc_now_delinq                              2260639 non-null  float64\n",
      " 57  tot_coll_amt                                2190392 non-null  float64\n",
      " 58  tot_cur_bal                                 2190392 non-null  float64\n",
      " 59  open_acc_6m                                 1394538 non-null  float64\n",
      " 60  open_act_il                                 1394539 non-null  float64\n",
      " 61  open_il_12m                                 1394539 non-null  float64\n",
      " 62  open_il_24m                                 1394539 non-null  float64\n",
      " 63  mths_since_rcnt_il                          1350744 non-null  float64\n",
      " 64  total_bal_il                                1394539 non-null  float64\n",
      " 65  il_util                                     1191818 non-null  float64\n",
      " 66  open_rv_12m                                 1394539 non-null  float64\n",
      " 67  open_rv_24m                                 1394539 non-null  float64\n",
      " 68  max_bal_bc                                  1394539 non-null  float64\n",
      " 69  all_util                                    1394320 non-null  float64\n",
      " 70  total_rev_hi_lim                            2190392 non-null  float64\n",
      " 71  inq_fi                                      1394539 non-null  float64\n",
      " 72  total_cu_tl                                 1394538 non-null  float64\n",
      " 73  inq_last_12m                                1394538 non-null  float64\n",
      " 74  acc_open_past_24mths                        2210638 non-null  float64\n",
      " 75  avg_cur_bal                                 2190322 non-null  float64\n",
      " 76  bc_open_to_buy                              2185733 non-null  float64\n",
      " 77  bc_util                                     2184597 non-null  float64\n",
      " 78  chargeoff_within_12_mths                    2260523 non-null  float64\n",
      " 79  delinq_amnt                                 2260639 non-null  float64\n",
      " 80  mo_sin_old_il_acct                          2121597 non-null  float64\n",
      " 81  mo_sin_old_rev_tl_op                        2190391 non-null  float64\n",
      " 82  mo_sin_rcnt_rev_tl_op                       2190391 non-null  float64\n",
      " 83  mo_sin_rcnt_tl                              2190392 non-null  float64\n",
      " 84  mort_acc                                    2210638 non-null  float64\n",
      " 85  mths_since_recent_bc                        2187256 non-null  float64\n",
      " 86  mths_since_recent_bc_dlq                    519701 non-null   float64\n",
      " 87  mths_since_recent_inq                       1965233 non-null  float64\n",
      " 88  mths_since_recent_revol_delinq              740359 non-null   float64\n",
      " 89  num_accts_ever_120_pd                       2190392 non-null  float64\n",
      " 90  num_actv_bc_tl                              2190392 non-null  float64\n",
      " 91  num_actv_rev_tl                             2190392 non-null  float64\n",
      " 92  num_bc_sats                                 2202078 non-null  float64\n",
      " 93  num_bc_tl                                   2190392 non-null  float64\n",
      " 94  num_il_tl                                   2190392 non-null  float64\n",
      " 95  num_op_rev_tl                               2190392 non-null  float64\n",
      " 96  num_rev_accts                               2190391 non-null  float64\n",
      " 97  num_rev_tl_bal_gt_0                         2190392 non-null  float64\n",
      " 98  num_sats                                    2202078 non-null  float64\n",
      " 99  num_tl_120dpd_2m                            2107011 non-null  float64\n",
      " 100 num_tl_30dpd                                2190392 non-null  float64\n",
      " 101 num_tl_90g_dpd_24m                          2190392 non-null  float64\n",
      " 102 num_tl_op_past_12m                          2190392 non-null  float64\n",
      " 103 pct_tl_nvr_dlq                              2190237 non-null  float64\n",
      " 104 percent_bc_gt_75                            2185289 non-null  float64\n",
      " 105 pub_rec_bankruptcies                        2259303 non-null  float64\n",
      " 106 tax_liens                                   2260563 non-null  float64\n",
      " 107 tot_hi_cred_lim                             2190392 non-null  float64\n",
      " 108 total_bal_ex_mort                           2210638 non-null  float64\n",
      " 109 total_bc_limit                              2210638 non-null  float64\n",
      " 110 total_il_high_credit_limit                  2190392 non-null  float64\n",
      " 111 revol_bal_joint                             108020 non-null   float64\n",
      " 112 sec_app_earliest_cr_line                    108021 non-null   object \n",
      " 113 sec_app_inq_last_6mths                      108021 non-null   float64\n",
      " 114 sec_app_mort_acc                            108021 non-null   float64\n",
      " 115 sec_app_open_acc                            108021 non-null   float64\n",
      " 116 sec_app_revol_util                          106184 non-null   float64\n",
      " 117 sec_app_open_act_il                         108021 non-null   float64\n",
      " 118 sec_app_num_rev_accts                       108021 non-null   float64\n",
      " 119 sec_app_chargeoff_within_12_mths            108021 non-null   float64\n",
      " 120 sec_app_collections_12_mths_ex_med          108021 non-null   float64\n",
      " 121 sec_app_mths_since_last_major_derog         35942 non-null    float64\n",
      " 122 hardship_flag                               2260668 non-null  object \n",
      " 123 hardship_type                               10613 non-null    object \n",
      " 124 hardship_reason                             10613 non-null    object \n",
      " 125 hardship_status                             10613 non-null    object \n",
      " 126 deferral_term                               10613 non-null    float64\n",
      " 127 hardship_amount                             10613 non-null    float64\n",
      " 128 hardship_start_date                         10613 non-null    object \n",
      " 129 hardship_end_date                           10613 non-null    object \n",
      " 130 payment_plan_start_date                     10613 non-null    object \n",
      " 131 hardship_length                             10613 non-null    float64\n",
      " 132 hardship_dpd                                10613 non-null    float64\n",
      " 133 hardship_loan_status                        10613 non-null    object \n",
      " 134 orig_projected_additional_accrued_interest  8426 non-null     float64\n",
      " 135 hardship_payoff_balance_amount              10613 non-null    float64\n",
      " 136 hardship_last_payment_amount                10613 non-null    float64\n",
      " 137 disbursement_method                         2260668 non-null  object \n",
      " 138 debt_settlement_flag                        2260668 non-null  object \n",
      " 139 debt_settlement_flag_date                   33056 non-null    object \n",
      " 140 settlement_status                           33056 non-null    object \n",
      " 141 settlement_date                             33056 non-null    object \n",
      " 142 settlement_amount                           33056 non-null    float64\n",
      " 143 settlement_percentage                       33056 non-null    float64\n",
      " 144 settlement_term                             33056 non-null    float64\n",
      "dtypes: float64(105), int64(4), object(36)\n",
      "memory usage: 2.4+ GB\n"
     ]
    }
   ],
   "source": [
    "df.info(verbose=True, null_counts=True)"
   ]
  },
  {
   "cell_type": "code",
   "execution_count": 16,
   "metadata": {},
   "outputs": [
    {
     "data": {
      "text/plain": [
       "<matplotlib.axes._subplots.AxesSubplot at 0x11d425220>"
      ]
     },
     "execution_count": 16,
     "metadata": {},
     "output_type": "execute_result"
    },
    {
     "data": {
      "image/png": "[encoded data removed]",
      "text/plain": [
       "<Figure size 432x288 with 1 Axes>"
      ]
     },
     "metadata": {
      "needs_background": "light"
     },
     "output_type": "display_data"
    }
   ],
   "source": [
    "# Plot the distribution of loan amount applied by borrower\n",
    "sns.distplot(df['loan_amnt'])"
   ]
  },
  {
   "cell_type": "code",
   "execution_count": 17,
   "metadata": {},
   "outputs": [
    {
     "data": {
      "text/plain": [
       "<matplotlib.axes._subplots.AxesSubplot at 0x13c63dd00>"
      ]
     },
     "execution_count": 17,
     "metadata": {},
     "output_type": "execute_result"
    },
    {
     "data": {
      "image/png": "[encoded data removed]",
      "text/plain": [
       "<Figure size 432x288 with 1 Axes>"
      ]
     },
     "metadata": {
      "needs_background": "light"
     },
     "output_type": "display_data"
    }
   ],
   "source": [
    "# Plot the distribution loan amount committeed\n",
    "sns.distplot(df['funded_amnt'])"
   ]
  },
  {
   "cell_type": "code",
   "execution_count": 18,
   "metadata": {},
   "outputs": [
    {
     "data": {
      "text/plain": [
       "<matplotlib.axes._subplots.AxesSubplot at 0x13c76b700>"
      ]
     },
     "execution_count": 18,
     "metadata": {},
     "output_type": "execute_result"
    },
    {
     "data": {
      "image/png": "[encoded data removed]",
      "text/plain": [
       "<Figure size 432x288 with 1 Axes>"
      ]
     },
     "metadata": {
      "needs_background": "light"
     },
     "output_type": "display_data"
    }
   ],
   "source": [
    "# Plot the distribution of loan amount committed by investors\n",
    "sns.distplot(df['funded_amnt_inv'])"
   ]
  },
  {
   "cell_type": "code",
   "execution_count": 27,
   "metadata": {
    "scrolled": false
   },
   "outputs": [
    {
     "name": "stdout",
     "output_type": "stream",
     "text": [
      " 36 months    0.71207\n",
      " 60 months    0.28793\n",
      "Name: term, dtype: float64\n"
     ]
    },
    {
     "data": {
      "text/plain": [
       "<matplotlib.axes._subplots.AxesSubplot at 0x13921efd0>"
      ]
     },
     "execution_count": 27,
     "metadata": {},
     "output_type": "execute_result"
    },
    {
     "data": {
      "image/png": "[encoded data removed]",
      "text/plain": [
       "<Figure size 432x288 with 1 Axes>"
      ]
     },
     "metadata": {
      "needs_background": "light"
     },
     "output_type": "display_data"
    }
   ],
   "source": [
    "# Plot the term of the loans applied, in terms of percentage over all loans\n",
    "print (df['term'].value_counts(normalize=True))\n",
    "sns.countplot(df['term'])"
   ]
  },
  {
   "cell_type": "code",
   "execution_count": 58,
   "metadata": {
    "scrolled": true
   },
   "outputs": [
    {
     "data": {
      "text/plain": [
       "<matplotlib.axes._subplots.AxesSubplot at 0x1394f9be0>"
      ]
     },
     "execution_count": 58,
     "metadata": {},
     "output_type": "execute_result"
    },
    {
     "data": {
      "image/png": "[encoded data removed]",
      "text/plain": [
       "<Figure size 432x288 with 1 Axes>"
      ]
     },
     "metadata": {
      "needs_background": "light"
     },
     "output_type": "display_data"
    }
   ],
   "source": [
    "# Extract the year from issue_d and plot the average loan amount with respect to year\n",
    "df['issue_y'] = pd.to_datetime(df['issue_d'], format='%b-%Y', errors='coerce').apply(lambda x: x.year)\n",
    "df.groupby('issue_y')['funded_amnt_inv'].mean().plot(kind='bar',color=['r', 'g', 'b', 'k', 'm', 'y'])\n",
    "# sns.lineplot(df.groupby('issue_y')['funded_amnt_inv'].mean().index, df.groupby('issue_y')['funded_amnt_inv'].mean().values)"
   ]
  },
  {
   "cell_type": "markdown",
   "metadata": {},
   "source": [
    "**Observation**: \n",
    "* Loan amount applied follows a multi-nomial distribution, mostly falling within 10k - 20k range\n",
    "* Loan amount applied and funded follows similar distributions, this means most loans applied by eligible borrowers are approved and funded by investor \n",
    "* _71%_ of the loans applied are for _36_ months, while _29%_ are for _60_ months.\n",
    "* Average loan amount increases each year, with significant jump in _2009, peak around 2015-2018_. This is probably due to financial crisis in _2008_ , which resulted in low interet rate between _2009-2018_"
   ]
  }
 ],
 "metadata": {
  "kernelspec": {
   "display_name": "Python 3",
   "language": "python",
   "name": "python3"
  },
  "language_info": {
   "codemirror_mode": {
    "name": "ipython",
    "version": 3
   },
   "file_extension": ".py",
   "mimetype": "text/x-python",
   "name": "python",
   "nbconvert_exporter": "python",
   "pygments_lexer": "ipython3",
   "version": "3.8.1"
  }
 },
 "nbformat": 4,
 "nbformat_minor": 4
}
